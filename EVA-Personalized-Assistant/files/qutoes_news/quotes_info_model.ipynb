{
  "nbformat": 4,
  "nbformat_minor": 0,
  "metadata": {
    "colab": {
      "provenance": []
    },
    "kernelspec": {
      "name": "python3",
      "display_name": "Python 3"
    },
    "language_info": {
      "name": "python"
    }
  },
  "cells": [
    {
      "cell_type": "code",
      "source": [
        "from google.colab import drive\n",
        "drive.mount('/content/drive')"
      ],
      "metadata": {
        "colab": {
          "base_uri": "https://localhost:8080/"
        },
        "id": "0Dv_WNcJe0K8",
        "outputId": "1eb038b5-28fd-4f9f-ec7b-27a087cd4718"
      },
      "execution_count": null,
      "outputs": [
        {
          "output_type": "stream",
          "name": "stdout",
          "text": [
            "Mounted at /content/drive\n"
          ]
        }
      ]
    },
    {
      "cell_type": "code",
      "execution_count": null,
      "metadata": {
        "id": "rg_J7Xb2LyOQ",
        "colab": {
          "base_uri": "https://localhost:8080/"
        },
        "outputId": "a5b725ae-2d46-40f6-b392-cd7c575bbfda"
      },
      "outputs": [
        {
          "output_type": "stream",
          "name": "stderr",
          "text": [
            "[nltk_data] Downloading package punkt to /root/nltk_data...\n",
            "[nltk_data]   Unzipping tokenizers/punkt.zip.\n"
          ]
        },
        {
          "output_type": "execute_result",
          "data": {
            "text/plain": [
              "True"
            ]
          },
          "metadata": {},
          "execution_count": 2
        }
      ],
      "source": [
        "import pandas as pd\n",
        "from sklearn.feature_extraction.text import TfidfVectorizer\n",
        "from sklearn.neighbors import KNeighborsClassifier\n",
        "from sklearn.naive_bayes import MultinomialNB\n",
        "from sklearn.svm import SVC\n",
        "from sklearn.metrics import accuracy_score\n",
        "from nltk.tokenize import word_tokenize\n",
        "from nltk.stem import PorterStemmer\n",
        "import nltk\n",
        "\n",
        "nltk.download('punkt')"
      ]
    },
    {
      "cell_type": "code",
      "source": [
        "df = pd.read_csv('/content/drive/MyDrive/Colab Notebooks/Final Project Cdac/Quotes_News_Model/new_no_duplicates.csv')\n",
        "df"
      ],
      "metadata": {
        "colab": {
          "base_uri": "https://localhost:8080/",
          "height": 423
        },
        "id": "QJQ61pekMC1G",
        "outputId": "dc8c4d7b-4da7-4c34-c8ed-fabc1e110798"
      },
      "execution_count": null,
      "outputs": [
        {
          "output_type": "execute_result",
          "data": {
            "text/plain": [
              "                                                Message  Intent\n",
              "0       Share insights into recent wisdom advancements.  quotes\n",
              "1     Tell me about perseverance-related industry up...  quotes\n",
              "2     Give me quotes that relate to perseverance ins...  quotes\n",
              "3           Tell me about wisdom-related opportunities.  quotes\n",
              "4     Update me on wisdom developments in the past w...  quotes\n",
              "...                                                 ...     ...\n",
              "1283  Share quotes that inspire eco-friendly archite...    news\n",
              "1284  Share quotes that encourage innovations in tra...    news\n",
              "1285  Update me on the latest artificial intelligenc...    news\n",
              "1286  I'd like to know more about sustainable fashio...    news\n",
              "1287  Give me a summary of technological impact on s...    news\n",
              "\n",
              "[1288 rows x 2 columns]"
            ],
            "text/html": [
              "\n",
              "  <div id=\"df-8e507582-610b-4815-a892-333ac3892537\" class=\"colab-df-container\">\n",
              "    <div>\n",
              "<style scoped>\n",
              "    .dataframe tbody tr th:only-of-type {\n",
              "        vertical-align: middle;\n",
              "    }\n",
              "\n",
              "    .dataframe tbody tr th {\n",
              "        vertical-align: top;\n",
              "    }\n",
              "\n",
              "    .dataframe thead th {\n",
              "        text-align: right;\n",
              "    }\n",
              "</style>\n",
              "<table border=\"1\" class=\"dataframe\">\n",
              "  <thead>\n",
              "    <tr style=\"text-align: right;\">\n",
              "      <th></th>\n",
              "      <th>Message</th>\n",
              "      <th>Intent</th>\n",
              "    </tr>\n",
              "  </thead>\n",
              "  <tbody>\n",
              "    <tr>\n",
              "      <th>0</th>\n",
              "      <td>Share insights into recent wisdom advancements.</td>\n",
              "      <td>quotes</td>\n",
              "    </tr>\n",
              "    <tr>\n",
              "      <th>1</th>\n",
              "      <td>Tell me about perseverance-related industry up...</td>\n",
              "      <td>quotes</td>\n",
              "    </tr>\n",
              "    <tr>\n",
              "      <th>2</th>\n",
              "      <td>Give me quotes that relate to perseverance ins...</td>\n",
              "      <td>quotes</td>\n",
              "    </tr>\n",
              "    <tr>\n",
              "      <th>3</th>\n",
              "      <td>Tell me about wisdom-related opportunities.</td>\n",
              "      <td>quotes</td>\n",
              "    </tr>\n",
              "    <tr>\n",
              "      <th>4</th>\n",
              "      <td>Update me on wisdom developments in the past w...</td>\n",
              "      <td>quotes</td>\n",
              "    </tr>\n",
              "    <tr>\n",
              "      <th>...</th>\n",
              "      <td>...</td>\n",
              "      <td>...</td>\n",
              "    </tr>\n",
              "    <tr>\n",
              "      <th>1283</th>\n",
              "      <td>Share quotes that inspire eco-friendly archite...</td>\n",
              "      <td>news</td>\n",
              "    </tr>\n",
              "    <tr>\n",
              "      <th>1284</th>\n",
              "      <td>Share quotes that encourage innovations in tra...</td>\n",
              "      <td>news</td>\n",
              "    </tr>\n",
              "    <tr>\n",
              "      <th>1285</th>\n",
              "      <td>Update me on the latest artificial intelligenc...</td>\n",
              "      <td>news</td>\n",
              "    </tr>\n",
              "    <tr>\n",
              "      <th>1286</th>\n",
              "      <td>I'd like to know more about sustainable fashio...</td>\n",
              "      <td>news</td>\n",
              "    </tr>\n",
              "    <tr>\n",
              "      <th>1287</th>\n",
              "      <td>Give me a summary of technological impact on s...</td>\n",
              "      <td>news</td>\n",
              "    </tr>\n",
              "  </tbody>\n",
              "</table>\n",
              "<p>1288 rows × 2 columns</p>\n",
              "</div>\n",
              "    <div class=\"colab-df-buttons\">\n",
              "\n",
              "  <div class=\"colab-df-container\">\n",
              "    <button class=\"colab-df-convert\" onclick=\"convertToInteractive('df-8e507582-610b-4815-a892-333ac3892537')\"\n",
              "            title=\"Convert this dataframe to an interactive table.\"\n",
              "            style=\"display:none;\">\n",
              "\n",
              "  <svg xmlns=\"http://www.w3.org/2000/svg\" height=\"24px\" viewBox=\"0 -960 960 960\">\n",
              "    <path d=\"M120-120v-720h720v720H120Zm60-500h600v-160H180v160Zm220 220h160v-160H400v160Zm0 220h160v-160H400v160ZM180-400h160v-160H180v160Zm440 0h160v-160H620v160ZM180-180h160v-160H180v160Zm440 0h160v-160H620v160Z\"/>\n",
              "  </svg>\n",
              "    </button>\n",
              "\n",
              "  <style>\n",
              "    .colab-df-container {\n",
              "      display:flex;\n",
              "      gap: 12px;\n",
              "    }\n",
              "\n",
              "    .colab-df-convert {\n",
              "      background-color: #E8F0FE;\n",
              "      border: none;\n",
              "      border-radius: 50%;\n",
              "      cursor: pointer;\n",
              "      display: none;\n",
              "      fill: #1967D2;\n",
              "      height: 32px;\n",
              "      padding: 0 0 0 0;\n",
              "      width: 32px;\n",
              "    }\n",
              "\n",
              "    .colab-df-convert:hover {\n",
              "      background-color: #E2EBFA;\n",
              "      box-shadow: 0px 1px 2px rgba(60, 64, 67, 0.3), 0px 1px 3px 1px rgba(60, 64, 67, 0.15);\n",
              "      fill: #174EA6;\n",
              "    }\n",
              "\n",
              "    .colab-df-buttons div {\n",
              "      margin-bottom: 4px;\n",
              "    }\n",
              "\n",
              "    [theme=dark] .colab-df-convert {\n",
              "      background-color: #3B4455;\n",
              "      fill: #D2E3FC;\n",
              "    }\n",
              "\n",
              "    [theme=dark] .colab-df-convert:hover {\n",
              "      background-color: #434B5C;\n",
              "      box-shadow: 0px 1px 3px 1px rgba(0, 0, 0, 0.15);\n",
              "      filter: drop-shadow(0px 1px 2px rgba(0, 0, 0, 0.3));\n",
              "      fill: #FFFFFF;\n",
              "    }\n",
              "  </style>\n",
              "\n",
              "    <script>\n",
              "      const buttonEl =\n",
              "        document.querySelector('#df-8e507582-610b-4815-a892-333ac3892537 button.colab-df-convert');\n",
              "      buttonEl.style.display =\n",
              "        google.colab.kernel.accessAllowed ? 'block' : 'none';\n",
              "\n",
              "      async function convertToInteractive(key) {\n",
              "        const element = document.querySelector('#df-8e507582-610b-4815-a892-333ac3892537');\n",
              "        const dataTable =\n",
              "          await google.colab.kernel.invokeFunction('convertToInteractive',\n",
              "                                                    [key], {});\n",
              "        if (!dataTable) return;\n",
              "\n",
              "        const docLinkHtml = 'Like what you see? Visit the ' +\n",
              "          '<a target=\"_blank\" href=https://colab.research.google.com/notebooks/data_table.ipynb>data table notebook</a>'\n",
              "          + ' to learn more about interactive tables.';\n",
              "        element.innerHTML = '';\n",
              "        dataTable['output_type'] = 'display_data';\n",
              "        await google.colab.output.renderOutput(dataTable, element);\n",
              "        const docLink = document.createElement('div');\n",
              "        docLink.innerHTML = docLinkHtml;\n",
              "        element.appendChild(docLink);\n",
              "      }\n",
              "    </script>\n",
              "  </div>\n",
              "\n",
              "\n",
              "<div id=\"df-8cf87bef-7012-4fc3-a38b-8c43a397f8ca\">\n",
              "  <button class=\"colab-df-quickchart\" onclick=\"quickchart('df-8cf87bef-7012-4fc3-a38b-8c43a397f8ca')\"\n",
              "            title=\"Suggest charts.\"\n",
              "            style=\"display:none;\">\n",
              "\n",
              "<svg xmlns=\"http://www.w3.org/2000/svg\" height=\"24px\"viewBox=\"0 0 24 24\"\n",
              "     width=\"24px\">\n",
              "    <g>\n",
              "        <path d=\"M19 3H5c-1.1 0-2 .9-2 2v14c0 1.1.9 2 2 2h14c1.1 0 2-.9 2-2V5c0-1.1-.9-2-2-2zM9 17H7v-7h2v7zm4 0h-2V7h2v10zm4 0h-2v-4h2v4z\"/>\n",
              "    </g>\n",
              "</svg>\n",
              "  </button>\n",
              "\n",
              "<style>\n",
              "  .colab-df-quickchart {\n",
              "    background-color: #E8F0FE;\n",
              "    border: none;\n",
              "    border-radius: 50%;\n",
              "    cursor: pointer;\n",
              "    display: none;\n",
              "    fill: #1967D2;\n",
              "    height: 32px;\n",
              "    padding: 0 0 0 0;\n",
              "    width: 32px;\n",
              "  }\n",
              "\n",
              "  .colab-df-quickchart:hover {\n",
              "    background-color: #E2EBFA;\n",
              "    box-shadow: 0px 1px 2px rgba(60, 64, 67, 0.3), 0px 1px 3px 1px rgba(60, 64, 67, 0.15);\n",
              "    fill: #174EA6;\n",
              "  }\n",
              "\n",
              "  [theme=dark] .colab-df-quickchart {\n",
              "    background-color: #3B4455;\n",
              "    fill: #D2E3FC;\n",
              "  }\n",
              "\n",
              "  [theme=dark] .colab-df-quickchart:hover {\n",
              "    background-color: #434B5C;\n",
              "    box-shadow: 0px 1px 3px 1px rgba(0, 0, 0, 0.15);\n",
              "    filter: drop-shadow(0px 1px 2px rgba(0, 0, 0, 0.3));\n",
              "    fill: #FFFFFF;\n",
              "  }\n",
              "</style>\n",
              "\n",
              "  <script>\n",
              "    async function quickchart(key) {\n",
              "      const charts = await google.colab.kernel.invokeFunction(\n",
              "          'suggestCharts', [key], {});\n",
              "    }\n",
              "    (() => {\n",
              "      let quickchartButtonEl =\n",
              "        document.querySelector('#df-8cf87bef-7012-4fc3-a38b-8c43a397f8ca button');\n",
              "      quickchartButtonEl.style.display =\n",
              "        google.colab.kernel.accessAllowed ? 'block' : 'none';\n",
              "    })();\n",
              "  </script>\n",
              "</div>\n",
              "    </div>\n",
              "  </div>\n"
            ]
          },
          "metadata": {},
          "execution_count": 3
        }
      ]
    },
    {
      "cell_type": "code",
      "source": [
        "df['Intent'].value_counts()"
      ],
      "metadata": {
        "colab": {
          "base_uri": "https://localhost:8080/"
        },
        "id": "beF6L5iUMFFE",
        "outputId": "a2631f77-aa69-40e0-ae36-77c84644caef"
      },
      "execution_count": null,
      "outputs": [
        {
          "output_type": "execute_result",
          "data": {
            "text/plain": [
              "news      904\n",
              "quotes    384\n",
              "Name: Intent, dtype: int64"
            ]
          },
          "metadata": {},
          "execution_count": 4
        }
      ]
    },
    {
      "cell_type": "code",
      "source": [
        "import pandas as pd\n",
        "from sklearn.feature_extraction.text import TfidfVectorizer\n",
        "from sklearn.neighbors import KNeighborsClassifier\n",
        "from sklearn.naive_bayes import MultinomialNB\n",
        "from sklearn.svm import SVC\n",
        "from sklearn.metrics import accuracy_score\n",
        "from nltk.tokenize import word_tokenize\n",
        "from nltk.stem import PorterStemmer\n",
        "import nltk\n",
        "\n",
        "nltk.download('punkt')\n",
        "\n",
        "\n",
        "# Split data into features (X) and labels (y)\n",
        "X = df['Message']\n",
        "y = df['Intent']\n",
        "\n",
        "# Map 'news' to 0 and 'quotes' to 1\n",
        "label_mapping = {'news': 0, 'quotes': 1}\n",
        "y = y.map(label_mapping)\n",
        "\n",
        "# Initialize the stemmer\n",
        "stemmer = PorterStemmer()\n",
        "\n",
        "# Tokenization and stemming function\n",
        "def preprocess_text(text):\n",
        "    tokens = word_tokenize(text)\n",
        "    stemmed_tokens = [stemmer.stem(token) for token in tokens]\n",
        "    preprocessed_text = ' '.join(stemmed_tokens)\n",
        "    return preprocessed_text\n",
        "\n",
        "# Preprocess the text data\n",
        "X_preprocessed = X.apply(preprocess_text)\n",
        "\n",
        "# Convert text data to numerical features using TF-IDF vectorization\n",
        "tfidf_vectorizer = TfidfVectorizer()\n",
        "X_tfidf = tfidf_vectorizer.fit_transform(X_preprocessed)\n",
        "\n",
        "# Train a k-Nearest Neighbors classifier with hyperparameters\n",
        "knn_classifier = KNeighborsClassifier(n_neighbors=100)  # You can adjust n_neighbors\n",
        "knn_classifier.fit(X_tfidf, y)\n",
        "\n",
        "# Test the model on new text data\n",
        "new_text = [\"What can i do to make my day positive?\"]\n",
        "new_text_preprocessed = pd.Series(new_text).apply(preprocess_text)\n",
        "new_text_tfidf = tfidf_vectorizer.transform(new_text_preprocessed)\n",
        "predicted_class = knn_classifier.predict(new_text_tfidf)\n",
        "\n",
        "# Map predicted class back to label\n",
        "predicted_label = list(label_mapping.keys())[list(label_mapping.values()).index(predicted_class[0])]\n",
        "\n",
        "print(f\"Predicted Intent: {predicted_label}\")"
      ],
      "metadata": {
        "id": "TlShhvMjMHoF",
        "colab": {
          "base_uri": "https://localhost:8080/"
        },
        "outputId": "2894e6a3-5daa-485e-d697-469f51dce615"
      },
      "execution_count": null,
      "outputs": [
        {
          "output_type": "stream",
          "name": "stderr",
          "text": [
            "[nltk_data] Downloading package punkt to /root/nltk_data...\n",
            "[nltk_data]   Package punkt is already up-to-date!\n"
          ]
        },
        {
          "output_type": "stream",
          "name": "stdout",
          "text": [
            "Predicted Intent: quotes\n"
          ]
        }
      ]
    },
    {
      "cell_type": "code",
      "source": [
        "# Test the model on new text data\n",
        "new_text = [\"What can i do to make my day positive?\"]\n",
        "new_text_preprocessed = pd.Series(new_text).apply(preprocess_text)\n",
        "new_text_tfidf = tfidf_vectorizer.transform(new_text_preprocessed)\n",
        "predicted_class = knn_classifier.predict(new_text_tfidf)\n",
        "\n",
        "# Map predicted class back to label\n",
        "predicted_label = list(label_mapping.keys())[list(label_mapping.values()).index(predicted_class[0])]\n",
        "\n",
        "print(f\"Predicted Intent: {predicted_label}\")\n",
        "\n",
        "# If predicted intent is 'quotes', select a quote from the quote dataset\n",
        "if predicted_label == 'quotes':\n",
        "    # Load the quote dataset (replace with your dataset)\n",
        "    quote_df = pd.read_csv('/content/drive/MyDrive/Colab Notebooks/Final Project Cdac/Quotes_News_Model/quotes.csv')\n",
        "\n",
        "    # Randomly select a quote\n",
        "    selected_quote = quote_df.sample(n=1)\n",
        "\n",
        "    # Print the selected quote\n",
        "    print(\"Selected Quote:\")\n",
        "    print(selected_quote['quote'].values[0])"
      ],
      "metadata": {
        "colab": {
          "base_uri": "https://localhost:8080/"
        },
        "id": "4yOrXjzGcEGU",
        "outputId": "71c5917d-f123-467b-ac0c-895a4ee40b2e"
      },
      "execution_count": null,
      "outputs": [
        {
          "output_type": "stream",
          "name": "stdout",
          "text": [
            "Predicted Intent: quotes\n",
            "Selected Quote:\n",
            "How would you feel about sharing your bed?\" she asked. Tristan blinked. \"Excuse me?\" \"He'd love to!\" Gary said. Tristan shot him a look, \"Good,\" said Ivy, failing to notice Gary's wink. \"Ella can be a pillow hog, but all you have to do is roll over her.\n"
          ]
        }
      ]
    },
    {
      "cell_type": "code",
      "source": [
        "quote_df.head()"
      ],
      "metadata": {
        "colab": {
          "base_uri": "https://localhost:8080/",
          "height": 206
        },
        "id": "ztQ7TNFfclpQ",
        "outputId": "a19ec01d-8602-46b7-95e8-4ab216ff4bf7"
      },
      "execution_count": null,
      "outputs": [
        {
          "output_type": "execute_result",
          "data": {
            "text/plain": [
              "                                               quote  \\\n",
              "0  I'm selfish, impatient and a little insecure. ...   \n",
              "1  You've gotta dance like there's nobody watchin...   \n",
              "2  You know you're in love when you can't fall as...   \n",
              "3  A friend is someone who knows all about you an...   \n",
              "4  Darkness cannot drive out darkness: only light...   \n",
              "\n",
              "                                              author  \\\n",
              "0                                     Marilyn Monroe   \n",
              "1                                  William W. Purkey   \n",
              "2                                          Dr. Seuss   \n",
              "3                                     Elbert Hubbard   \n",
              "4  Martin Luther King Jr., A Testament of Hope: T...   \n",
              "\n",
              "                                            category  \n",
              "0  attributed-no-source, best, life, love, mistak...  \n",
              "1  dance, heaven, hurt, inspirational, life, love...  \n",
              "2  attributed-no-source, dreams, love, reality, s...  \n",
              "3                friend, friendship, knowledge, love  \n",
              "4  darkness, drive-out, hate, inspirational, ligh...  "
            ],
            "text/html": [
              "\n",
              "  <div id=\"df-c00bbbd8-e340-421d-92e7-b77f12a04595\" class=\"colab-df-container\">\n",
              "    <div>\n",
              "<style scoped>\n",
              "    .dataframe tbody tr th:only-of-type {\n",
              "        vertical-align: middle;\n",
              "    }\n",
              "\n",
              "    .dataframe tbody tr th {\n",
              "        vertical-align: top;\n",
              "    }\n",
              "\n",
              "    .dataframe thead th {\n",
              "        text-align: right;\n",
              "    }\n",
              "</style>\n",
              "<table border=\"1\" class=\"dataframe\">\n",
              "  <thead>\n",
              "    <tr style=\"text-align: right;\">\n",
              "      <th></th>\n",
              "      <th>quote</th>\n",
              "      <th>author</th>\n",
              "      <th>category</th>\n",
              "    </tr>\n",
              "  </thead>\n",
              "  <tbody>\n",
              "    <tr>\n",
              "      <th>0</th>\n",
              "      <td>I'm selfish, impatient and a little insecure. ...</td>\n",
              "      <td>Marilyn Monroe</td>\n",
              "      <td>attributed-no-source, best, life, love, mistak...</td>\n",
              "    </tr>\n",
              "    <tr>\n",
              "      <th>1</th>\n",
              "      <td>You've gotta dance like there's nobody watchin...</td>\n",
              "      <td>William W. Purkey</td>\n",
              "      <td>dance, heaven, hurt, inspirational, life, love...</td>\n",
              "    </tr>\n",
              "    <tr>\n",
              "      <th>2</th>\n",
              "      <td>You know you're in love when you can't fall as...</td>\n",
              "      <td>Dr. Seuss</td>\n",
              "      <td>attributed-no-source, dreams, love, reality, s...</td>\n",
              "    </tr>\n",
              "    <tr>\n",
              "      <th>3</th>\n",
              "      <td>A friend is someone who knows all about you an...</td>\n",
              "      <td>Elbert Hubbard</td>\n",
              "      <td>friend, friendship, knowledge, love</td>\n",
              "    </tr>\n",
              "    <tr>\n",
              "      <th>4</th>\n",
              "      <td>Darkness cannot drive out darkness: only light...</td>\n",
              "      <td>Martin Luther King Jr., A Testament of Hope: T...</td>\n",
              "      <td>darkness, drive-out, hate, inspirational, ligh...</td>\n",
              "    </tr>\n",
              "  </tbody>\n",
              "</table>\n",
              "</div>\n",
              "    <div class=\"colab-df-buttons\">\n",
              "\n",
              "  <div class=\"colab-df-container\">\n",
              "    <button class=\"colab-df-convert\" onclick=\"convertToInteractive('df-c00bbbd8-e340-421d-92e7-b77f12a04595')\"\n",
              "            title=\"Convert this dataframe to an interactive table.\"\n",
              "            style=\"display:none;\">\n",
              "\n",
              "  <svg xmlns=\"http://www.w3.org/2000/svg\" height=\"24px\" viewBox=\"0 -960 960 960\">\n",
              "    <path d=\"M120-120v-720h720v720H120Zm60-500h600v-160H180v160Zm220 220h160v-160H400v160Zm0 220h160v-160H400v160ZM180-400h160v-160H180v160Zm440 0h160v-160H620v160ZM180-180h160v-160H180v160Zm440 0h160v-160H620v160Z\"/>\n",
              "  </svg>\n",
              "    </button>\n",
              "\n",
              "  <style>\n",
              "    .colab-df-container {\n",
              "      display:flex;\n",
              "      gap: 12px;\n",
              "    }\n",
              "\n",
              "    .colab-df-convert {\n",
              "      background-color: #E8F0FE;\n",
              "      border: none;\n",
              "      border-radius: 50%;\n",
              "      cursor: pointer;\n",
              "      display: none;\n",
              "      fill: #1967D2;\n",
              "      height: 32px;\n",
              "      padding: 0 0 0 0;\n",
              "      width: 32px;\n",
              "    }\n",
              "\n",
              "    .colab-df-convert:hover {\n",
              "      background-color: #E2EBFA;\n",
              "      box-shadow: 0px 1px 2px rgba(60, 64, 67, 0.3), 0px 1px 3px 1px rgba(60, 64, 67, 0.15);\n",
              "      fill: #174EA6;\n",
              "    }\n",
              "\n",
              "    .colab-df-buttons div {\n",
              "      margin-bottom: 4px;\n",
              "    }\n",
              "\n",
              "    [theme=dark] .colab-df-convert {\n",
              "      background-color: #3B4455;\n",
              "      fill: #D2E3FC;\n",
              "    }\n",
              "\n",
              "    [theme=dark] .colab-df-convert:hover {\n",
              "      background-color: #434B5C;\n",
              "      box-shadow: 0px 1px 3px 1px rgba(0, 0, 0, 0.15);\n",
              "      filter: drop-shadow(0px 1px 2px rgba(0, 0, 0, 0.3));\n",
              "      fill: #FFFFFF;\n",
              "    }\n",
              "  </style>\n",
              "\n",
              "    <script>\n",
              "      const buttonEl =\n",
              "        document.querySelector('#df-c00bbbd8-e340-421d-92e7-b77f12a04595 button.colab-df-convert');\n",
              "      buttonEl.style.display =\n",
              "        google.colab.kernel.accessAllowed ? 'block' : 'none';\n",
              "\n",
              "      async function convertToInteractive(key) {\n",
              "        const element = document.querySelector('#df-c00bbbd8-e340-421d-92e7-b77f12a04595');\n",
              "        const dataTable =\n",
              "          await google.colab.kernel.invokeFunction('convertToInteractive',\n",
              "                                                    [key], {});\n",
              "        if (!dataTable) return;\n",
              "\n",
              "        const docLinkHtml = 'Like what you see? Visit the ' +\n",
              "          '<a target=\"_blank\" href=https://colab.research.google.com/notebooks/data_table.ipynb>data table notebook</a>'\n",
              "          + ' to learn more about interactive tables.';\n",
              "        element.innerHTML = '';\n",
              "        dataTable['output_type'] = 'display_data';\n",
              "        await google.colab.output.renderOutput(dataTable, element);\n",
              "        const docLink = document.createElement('div');\n",
              "        docLink.innerHTML = docLinkHtml;\n",
              "        element.appendChild(docLink);\n",
              "      }\n",
              "    </script>\n",
              "  </div>\n",
              "\n",
              "\n",
              "<div id=\"df-7c0b1517-0aed-4444-a9b2-dfd0893d1cbb\">\n",
              "  <button class=\"colab-df-quickchart\" onclick=\"quickchart('df-7c0b1517-0aed-4444-a9b2-dfd0893d1cbb')\"\n",
              "            title=\"Suggest charts.\"\n",
              "            style=\"display:none;\">\n",
              "\n",
              "<svg xmlns=\"http://www.w3.org/2000/svg\" height=\"24px\"viewBox=\"0 0 24 24\"\n",
              "     width=\"24px\">\n",
              "    <g>\n",
              "        <path d=\"M19 3H5c-1.1 0-2 .9-2 2v14c0 1.1.9 2 2 2h14c1.1 0 2-.9 2-2V5c0-1.1-.9-2-2-2zM9 17H7v-7h2v7zm4 0h-2V7h2v10zm4 0h-2v-4h2v4z\"/>\n",
              "    </g>\n",
              "</svg>\n",
              "  </button>\n",
              "\n",
              "<style>\n",
              "  .colab-df-quickchart {\n",
              "    background-color: #E8F0FE;\n",
              "    border: none;\n",
              "    border-radius: 50%;\n",
              "    cursor: pointer;\n",
              "    display: none;\n",
              "    fill: #1967D2;\n",
              "    height: 32px;\n",
              "    padding: 0 0 0 0;\n",
              "    width: 32px;\n",
              "  }\n",
              "\n",
              "  .colab-df-quickchart:hover {\n",
              "    background-color: #E2EBFA;\n",
              "    box-shadow: 0px 1px 2px rgba(60, 64, 67, 0.3), 0px 1px 3px 1px rgba(60, 64, 67, 0.15);\n",
              "    fill: #174EA6;\n",
              "  }\n",
              "\n",
              "  [theme=dark] .colab-df-quickchart {\n",
              "    background-color: #3B4455;\n",
              "    fill: #D2E3FC;\n",
              "  }\n",
              "\n",
              "  [theme=dark] .colab-df-quickchart:hover {\n",
              "    background-color: #434B5C;\n",
              "    box-shadow: 0px 1px 3px 1px rgba(0, 0, 0, 0.15);\n",
              "    filter: drop-shadow(0px 1px 2px rgba(0, 0, 0, 0.3));\n",
              "    fill: #FFFFFF;\n",
              "  }\n",
              "</style>\n",
              "\n",
              "  <script>\n",
              "    async function quickchart(key) {\n",
              "      const charts = await google.colab.kernel.invokeFunction(\n",
              "          'suggestCharts', [key], {});\n",
              "    }\n",
              "    (() => {\n",
              "      let quickchartButtonEl =\n",
              "        document.querySelector('#df-7c0b1517-0aed-4444-a9b2-dfd0893d1cbb button');\n",
              "      quickchartButtonEl.style.display =\n",
              "        google.colab.kernel.accessAllowed ? 'block' : 'none';\n",
              "    })();\n",
              "  </script>\n",
              "</div>\n",
              "    </div>\n",
              "  </div>\n"
            ]
          },
          "metadata": {},
          "execution_count": 9
        }
      ]
    },
    {
      "cell_type": "code",
      "source": [
        "import pickle\n",
        "\n",
        "# Save the model using pickle\n",
        "model_filename = 'quotation_news_model.pkl'\n",
        "with open(model_filename, 'wb') as file:\n",
        "    pickle.dump(knn_classifier, file)"
      ],
      "metadata": {
        "id": "jo7B9LXjfdG4"
      },
      "execution_count": null,
      "outputs": []
    },
    {
      "cell_type": "code",
      "source": [
        "# Save the model using pickle\n",
        "model_filename = 'quotation_news_stemmer_model.pkl'\n",
        "with open(model_filename, 'wb') as file:\n",
        "    pickle.dump(knn_classifier, file)"
      ],
      "metadata": {
        "id": "aGJNWgCUjKjc"
      },
      "execution_count": null,
      "outputs": []
    },
    {
      "cell_type": "code",
      "source": [
        "import pickle"
      ],
      "metadata": {
        "id": "AzHMIpEOGOMX"
      },
      "execution_count": null,
      "outputs": []
    },
    {
      "cell_type": "code",
      "source": [
        "# Save the model using pickle\n",
        "model_filename = 'quotation_news_tfidfvectorizer_model.pkl'\n",
        "with open(model_filename, 'wb') as file:\n",
        "    pickle.dump(knn_classifier, file)"
      ],
      "metadata": {
        "id": "fTZv0ftIEp1x"
      },
      "execution_count": null,
      "outputs": []
    },
    {
      "cell_type": "code",
      "source": [
        "import joblib\n",
        "\n",
        "# Save the TfidfVectorizer\n",
        "vectorizer_filename = 'tfidf_vectorizer.joblib'\n",
        "joblib.dump(tfidf_vectorizer, vectorizer_filename)\n",
        "\n",
        "# Save the stemmer (PorterStemmer)\n",
        "stemmer_filename = 'stemmer.joblib'\n",
        "joblib.dump(stemmer, stemmer_filename)"
      ],
      "metadata": {
        "id": "R-iH932THErA",
        "outputId": "f9737d61-8551-4205-e351-e16457e3dd66",
        "colab": {
          "base_uri": "https://localhost:8080/"
        }
      },
      "execution_count": null,
      "outputs": [
        {
          "output_type": "execute_result",
          "data": {
            "text/plain": [
              "['stemmer.joblib']"
            ]
          },
          "metadata": {},
          "execution_count": 10
        }
      ]
    },
    {
      "cell_type": "code",
      "source": [
        "import pickle\n",
        "import joblib\n",
        "\n",
        "# Load the saved TfidfVectorizer and stemmer\n",
        "loaded_vectorizer = joblib.load('tfidf_vectorizer.joblib')\n",
        "loaded_stemmer = joblib.load('stemmer.joblib')\n",
        "\n",
        "# Load the saved KNN model using pickle\n",
        "with open('/content/quotation_news_model.pkl', 'rb') as model_file:\n",
        "    loaded_model = pickle.load(model_file)\n",
        "\n",
        "# Map 'news' to 0 and 'quotes' to 1\n",
        "label_mapping = {'news': 0, 'quotes': 1}\n",
        "\n",
        "# Test the loaded model on new text data\n",
        "new_text = [\"Can you make me smile?\"]\n",
        "new_text_preprocessed = pd.Series(new_text).apply(loaded_stemmer.stem)\n",
        "new_text_tfidf = loaded_vectorizer.transform(new_text_preprocessed)\n",
        "\n",
        "predicted_class = loaded_model.predict(new_text_tfidf)\n",
        "predicted_label = list(label_mapping.keys())[list(label_mapping.values()).index(predicted_class[0])]\n",
        "\n",
        "print(f\"Predicted Intent from Loaded Model: {predicted_label}\")\n",
        "\n",
        "# If predicted intent is 'quotes', select a quote from the quote dataset\n",
        "if predicted_label == 'quotes':\n",
        "    # Load the quote dataset (replace with your dataset)\n",
        "    quote_df = pd.read_csv('/content/drive/MyDrive/Colab Notebooks/Final Project Cdac/Quotes_News_Model/quotes.csv')\n",
        "\n",
        "    # Randomly select a quote\n",
        "    selected_quote = quote_df.sample(n=1)\n",
        "\n",
        "    # Print the selected quote\n",
        "    print(\"Selected Quote:\")\n",
        "    print(selected_quote['quote'].values[0])"
      ],
      "metadata": {
        "colab": {
          "base_uri": "https://localhost:8080/"
        },
        "id": "H1LcPCIjOhfc",
        "outputId": "b5a5ff71-909a-4453-819f-1a58845ff8df"
      },
      "execution_count": 12,
      "outputs": [
        {
          "output_type": "stream",
          "name": "stdout",
          "text": [
            "Predicted Intent from Loaded Model: quotes\n",
            "Selected Quote:\n",
            "I thought doctors were supposed to make you better not worse!\n"
          ]
        }
      ]
    }
  ]
}