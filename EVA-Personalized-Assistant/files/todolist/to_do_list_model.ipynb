{
  "nbformat": 4,
  "nbformat_minor": 0,
  "metadata": {
    "colab": {
      "provenance": [],
      "gpuType": "T4"
    },
    "kernelspec": {
      "name": "python3",
      "display_name": "Python 3"
    },
    "language_info": {
      "name": "python"
    },
    "accelerator": "GPU"
  },
  "cells": [
    {
      "cell_type": "code",
      "execution_count": null,
      "metadata": {
        "id": "QwZlXyykjSWQ"
      },
      "outputs": [],
      "source": [
        "import pandas as pd"
      ]
    },
    {
      "cell_type": "code",
      "source": [
        "data = pd.read_csv('/content/todo_list_dataset.csv')"
      ],
      "metadata": {
        "id": "GI3c6coSkwyT"
      },
      "execution_count": null,
      "outputs": []
    },
    {
      "cell_type": "code",
      "source": [
        "data.head()"
      ],
      "metadata": {
        "colab": {
          "base_uri": "https://localhost:8080/",
          "height": 206
        },
        "id": "DVXqVn8Gk0gR",
        "outputId": "a0ef0c6d-8c5e-48c8-bc62-65b5b9a847d4"
      },
      "execution_count": null,
      "outputs": [
        {
          "output_type": "execute_result",
          "data": {
            "text/plain": [
              "                           message intent\n",
              "0                Add buy groceries    add\n",
              "1                 Create a meeting    add\n",
              "2                    Add call John    add\n",
              "3    Put laundry on the to-do list    add\n",
              "4  Schedule a doctor's appointment    add"
            ],
            "text/html": [
              "\n",
              "  <div id=\"df-1553010e-dd94-4b74-aabe-12508b7a2d2e\" class=\"colab-df-container\">\n",
              "    <div>\n",
              "<style scoped>\n",
              "    .dataframe tbody tr th:only-of-type {\n",
              "        vertical-align: middle;\n",
              "    }\n",
              "\n",
              "    .dataframe tbody tr th {\n",
              "        vertical-align: top;\n",
              "    }\n",
              "\n",
              "    .dataframe thead th {\n",
              "        text-align: right;\n",
              "    }\n",
              "</style>\n",
              "<table border=\"1\" class=\"dataframe\">\n",
              "  <thead>\n",
              "    <tr style=\"text-align: right;\">\n",
              "      <th></th>\n",
              "      <th>message</th>\n",
              "      <th>intent</th>\n",
              "    </tr>\n",
              "  </thead>\n",
              "  <tbody>\n",
              "    <tr>\n",
              "      <th>0</th>\n",
              "      <td>Add buy groceries</td>\n",
              "      <td>add</td>\n",
              "    </tr>\n",
              "    <tr>\n",
              "      <th>1</th>\n",
              "      <td>Create a meeting</td>\n",
              "      <td>add</td>\n",
              "    </tr>\n",
              "    <tr>\n",
              "      <th>2</th>\n",
              "      <td>Add call John</td>\n",
              "      <td>add</td>\n",
              "    </tr>\n",
              "    <tr>\n",
              "      <th>3</th>\n",
              "      <td>Put laundry on the to-do list</td>\n",
              "      <td>add</td>\n",
              "    </tr>\n",
              "    <tr>\n",
              "      <th>4</th>\n",
              "      <td>Schedule a doctor's appointment</td>\n",
              "      <td>add</td>\n",
              "    </tr>\n",
              "  </tbody>\n",
              "</table>\n",
              "</div>\n",
              "    <div class=\"colab-df-buttons\">\n",
              "\n",
              "  <div class=\"colab-df-container\">\n",
              "    <button class=\"colab-df-convert\" onclick=\"convertToInteractive('df-1553010e-dd94-4b74-aabe-12508b7a2d2e')\"\n",
              "            title=\"Convert this dataframe to an interactive table.\"\n",
              "            style=\"display:none;\">\n",
              "\n",
              "  <svg xmlns=\"http://www.w3.org/2000/svg\" height=\"24px\" viewBox=\"0 -960 960 960\">\n",
              "    <path d=\"M120-120v-720h720v720H120Zm60-500h600v-160H180v160Zm220 220h160v-160H400v160Zm0 220h160v-160H400v160ZM180-400h160v-160H180v160Zm440 0h160v-160H620v160ZM180-180h160v-160H180v160Zm440 0h160v-160H620v160Z\"/>\n",
              "  </svg>\n",
              "    </button>\n",
              "\n",
              "  <style>\n",
              "    .colab-df-container {\n",
              "      display:flex;\n",
              "      gap: 12px;\n",
              "    }\n",
              "\n",
              "    .colab-df-convert {\n",
              "      background-color: #E8F0FE;\n",
              "      border: none;\n",
              "      border-radius: 50%;\n",
              "      cursor: pointer;\n",
              "      display: none;\n",
              "      fill: #1967D2;\n",
              "      height: 32px;\n",
              "      padding: 0 0 0 0;\n",
              "      width: 32px;\n",
              "    }\n",
              "\n",
              "    .colab-df-convert:hover {\n",
              "      background-color: #E2EBFA;\n",
              "      box-shadow: 0px 1px 2px rgba(60, 64, 67, 0.3), 0px 1px 3px 1px rgba(60, 64, 67, 0.15);\n",
              "      fill: #174EA6;\n",
              "    }\n",
              "\n",
              "    .colab-df-buttons div {\n",
              "      margin-bottom: 4px;\n",
              "    }\n",
              "\n",
              "    [theme=dark] .colab-df-convert {\n",
              "      background-color: #3B4455;\n",
              "      fill: #D2E3FC;\n",
              "    }\n",
              "\n",
              "    [theme=dark] .colab-df-convert:hover {\n",
              "      background-color: #434B5C;\n",
              "      box-shadow: 0px 1px 3px 1px rgba(0, 0, 0, 0.15);\n",
              "      filter: drop-shadow(0px 1px 2px rgba(0, 0, 0, 0.3));\n",
              "      fill: #FFFFFF;\n",
              "    }\n",
              "  </style>\n",
              "\n",
              "    <script>\n",
              "      const buttonEl =\n",
              "        document.querySelector('#df-1553010e-dd94-4b74-aabe-12508b7a2d2e button.colab-df-convert');\n",
              "      buttonEl.style.display =\n",
              "        google.colab.kernel.accessAllowed ? 'block' : 'none';\n",
              "\n",
              "      async function convertToInteractive(key) {\n",
              "        const element = document.querySelector('#df-1553010e-dd94-4b74-aabe-12508b7a2d2e');\n",
              "        const dataTable =\n",
              "          await google.colab.kernel.invokeFunction('convertToInteractive',\n",
              "                                                    [key], {});\n",
              "        if (!dataTable) return;\n",
              "\n",
              "        const docLinkHtml = 'Like what you see? Visit the ' +\n",
              "          '<a target=\"_blank\" href=https://colab.research.google.com/notebooks/data_table.ipynb>data table notebook</a>'\n",
              "          + ' to learn more about interactive tables.';\n",
              "        element.innerHTML = '';\n",
              "        dataTable['output_type'] = 'display_data';\n",
              "        await google.colab.output.renderOutput(dataTable, element);\n",
              "        const docLink = document.createElement('div');\n",
              "        docLink.innerHTML = docLinkHtml;\n",
              "        element.appendChild(docLink);\n",
              "      }\n",
              "    </script>\n",
              "  </div>\n",
              "\n",
              "\n",
              "<div id=\"df-25c41f68-5e4d-49aa-993e-4e05deb8b157\">\n",
              "  <button class=\"colab-df-quickchart\" onclick=\"quickchart('df-25c41f68-5e4d-49aa-993e-4e05deb8b157')\"\n",
              "            title=\"Suggest charts.\"\n",
              "            style=\"display:none;\">\n",
              "\n",
              "<svg xmlns=\"http://www.w3.org/2000/svg\" height=\"24px\"viewBox=\"0 0 24 24\"\n",
              "     width=\"24px\">\n",
              "    <g>\n",
              "        <path d=\"M19 3H5c-1.1 0-2 .9-2 2v14c0 1.1.9 2 2 2h14c1.1 0 2-.9 2-2V5c0-1.1-.9-2-2-2zM9 17H7v-7h2v7zm4 0h-2V7h2v10zm4 0h-2v-4h2v4z\"/>\n",
              "    </g>\n",
              "</svg>\n",
              "  </button>\n",
              "\n",
              "<style>\n",
              "  .colab-df-quickchart {\n",
              "    background-color: #E8F0FE;\n",
              "    border: none;\n",
              "    border-radius: 50%;\n",
              "    cursor: pointer;\n",
              "    display: none;\n",
              "    fill: #1967D2;\n",
              "    height: 32px;\n",
              "    padding: 0 0 0 0;\n",
              "    width: 32px;\n",
              "  }\n",
              "\n",
              "  .colab-df-quickchart:hover {\n",
              "    background-color: #E2EBFA;\n",
              "    box-shadow: 0px 1px 2px rgba(60, 64, 67, 0.3), 0px 1px 3px 1px rgba(60, 64, 67, 0.15);\n",
              "    fill: #174EA6;\n",
              "  }\n",
              "\n",
              "  [theme=dark] .colab-df-quickchart {\n",
              "    background-color: #3B4455;\n",
              "    fill: #D2E3FC;\n",
              "  }\n",
              "\n",
              "  [theme=dark] .colab-df-quickchart:hover {\n",
              "    background-color: #434B5C;\n",
              "    box-shadow: 0px 1px 3px 1px rgba(0, 0, 0, 0.15);\n",
              "    filter: drop-shadow(0px 1px 2px rgba(0, 0, 0, 0.3));\n",
              "    fill: #FFFFFF;\n",
              "  }\n",
              "</style>\n",
              "\n",
              "  <script>\n",
              "    async function quickchart(key) {\n",
              "      const charts = await google.colab.kernel.invokeFunction(\n",
              "          'suggestCharts', [key], {});\n",
              "    }\n",
              "    (() => {\n",
              "      let quickchartButtonEl =\n",
              "        document.querySelector('#df-25c41f68-5e4d-49aa-993e-4e05deb8b157 button');\n",
              "      quickchartButtonEl.style.display =\n",
              "        google.colab.kernel.accessAllowed ? 'block' : 'none';\n",
              "    })();\n",
              "  </script>\n",
              "</div>\n",
              "    </div>\n",
              "  </div>\n"
            ]
          },
          "metadata": {},
          "execution_count": 3
        }
      ]
    },
    {
      "cell_type": "code",
      "source": [
        "count_intent = data['intent'].value_counts()\n",
        "count_intent"
      ],
      "metadata": {
        "colab": {
          "base_uri": "https://localhost:8080/"
        },
        "id": "IY7kTSKDk1MR",
        "outputId": "00d0cb62-cfc6-4d5e-9b79-ec354cb5927c"
      },
      "execution_count": null,
      "outputs": [
        {
          "output_type": "execute_result",
          "data": {
            "text/plain": [
              "add       50\n",
              "view      50\n",
              "delete    50\n",
              "exit      50\n",
              "Name: intent, dtype: int64"
            ]
          },
          "metadata": {},
          "execution_count": 4
        }
      ]
    },
    {
      "cell_type": "code",
      "source": [
        "data.duplicated().value_counts()"
      ],
      "metadata": {
        "colab": {
          "base_uri": "https://localhost:8080/"
        },
        "id": "AKo874IHk6wh",
        "outputId": "5bf9a065-d2ba-4130-fd86-787747f2e76d"
      },
      "execution_count": null,
      "outputs": [
        {
          "output_type": "execute_result",
          "data": {
            "text/plain": [
              "False    200\n",
              "dtype: int64"
            ]
          },
          "metadata": {},
          "execution_count": 5
        }
      ]
    },
    {
      "cell_type": "code",
      "source": [
        "data"
      ],
      "metadata": {
        "colab": {
          "base_uri": "https://localhost:8080/",
          "height": 424
        },
        "id": "QbtMfjsrlrlR",
        "outputId": "e45f6ae2-dddd-4872-b9d8-bd5d9955de29"
      },
      "execution_count": null,
      "outputs": [
        {
          "output_type": "execute_result",
          "data": {
            "text/plain": [
              "                              message intent\n",
              "0                   Add buy groceries    add\n",
              "1                    Create a meeting    add\n",
              "2                       Add call John    add\n",
              "3       Put laundry on the to-do list    add\n",
              "4     Schedule a doctor's appointment    add\n",
              "..                                ...    ...\n",
              "195        Present the current to-dos   view\n",
              "196      Display the meeting schedule   view\n",
              "197          List ongoing commitments   view\n",
              "198  Show me my upcoming appointments   view\n",
              "199         Terminate the interaction   exit\n",
              "\n",
              "[200 rows x 2 columns]"
            ],
            "text/html": [
              "\n",
              "  <div id=\"df-8eb4f1b8-5db6-47d5-b9cd-d74ca97b1d09\" class=\"colab-df-container\">\n",
              "    <div>\n",
              "<style scoped>\n",
              "    .dataframe tbody tr th:only-of-type {\n",
              "        vertical-align: middle;\n",
              "    }\n",
              "\n",
              "    .dataframe tbody tr th {\n",
              "        vertical-align: top;\n",
              "    }\n",
              "\n",
              "    .dataframe thead th {\n",
              "        text-align: right;\n",
              "    }\n",
              "</style>\n",
              "<table border=\"1\" class=\"dataframe\">\n",
              "  <thead>\n",
              "    <tr style=\"text-align: right;\">\n",
              "      <th></th>\n",
              "      <th>message</th>\n",
              "      <th>intent</th>\n",
              "    </tr>\n",
              "  </thead>\n",
              "  <tbody>\n",
              "    <tr>\n",
              "      <th>0</th>\n",
              "      <td>Add buy groceries</td>\n",
              "      <td>add</td>\n",
              "    </tr>\n",
              "    <tr>\n",
              "      <th>1</th>\n",
              "      <td>Create a meeting</td>\n",
              "      <td>add</td>\n",
              "    </tr>\n",
              "    <tr>\n",
              "      <th>2</th>\n",
              "      <td>Add call John</td>\n",
              "      <td>add</td>\n",
              "    </tr>\n",
              "    <tr>\n",
              "      <th>3</th>\n",
              "      <td>Put laundry on the to-do list</td>\n",
              "      <td>add</td>\n",
              "    </tr>\n",
              "    <tr>\n",
              "      <th>4</th>\n",
              "      <td>Schedule a doctor's appointment</td>\n",
              "      <td>add</td>\n",
              "    </tr>\n",
              "    <tr>\n",
              "      <th>...</th>\n",
              "      <td>...</td>\n",
              "      <td>...</td>\n",
              "    </tr>\n",
              "    <tr>\n",
              "      <th>195</th>\n",
              "      <td>Present the current to-dos</td>\n",
              "      <td>view</td>\n",
              "    </tr>\n",
              "    <tr>\n",
              "      <th>196</th>\n",
              "      <td>Display the meeting schedule</td>\n",
              "      <td>view</td>\n",
              "    </tr>\n",
              "    <tr>\n",
              "      <th>197</th>\n",
              "      <td>List ongoing commitments</td>\n",
              "      <td>view</td>\n",
              "    </tr>\n",
              "    <tr>\n",
              "      <th>198</th>\n",
              "      <td>Show me my upcoming appointments</td>\n",
              "      <td>view</td>\n",
              "    </tr>\n",
              "    <tr>\n",
              "      <th>199</th>\n",
              "      <td>Terminate the interaction</td>\n",
              "      <td>exit</td>\n",
              "    </tr>\n",
              "  </tbody>\n",
              "</table>\n",
              "<p>200 rows × 2 columns</p>\n",
              "</div>\n",
              "    <div class=\"colab-df-buttons\">\n",
              "\n",
              "  <div class=\"colab-df-container\">\n",
              "    <button class=\"colab-df-convert\" onclick=\"convertToInteractive('df-8eb4f1b8-5db6-47d5-b9cd-d74ca97b1d09')\"\n",
              "            title=\"Convert this dataframe to an interactive table.\"\n",
              "            style=\"display:none;\">\n",
              "\n",
              "  <svg xmlns=\"http://www.w3.org/2000/svg\" height=\"24px\" viewBox=\"0 -960 960 960\">\n",
              "    <path d=\"M120-120v-720h720v720H120Zm60-500h600v-160H180v160Zm220 220h160v-160H400v160Zm0 220h160v-160H400v160ZM180-400h160v-160H180v160Zm440 0h160v-160H620v160ZM180-180h160v-160H180v160Zm440 0h160v-160H620v160Z\"/>\n",
              "  </svg>\n",
              "    </button>\n",
              "\n",
              "  <style>\n",
              "    .colab-df-container {\n",
              "      display:flex;\n",
              "      gap: 12px;\n",
              "    }\n",
              "\n",
              "    .colab-df-convert {\n",
              "      background-color: #E8F0FE;\n",
              "      border: none;\n",
              "      border-radius: 50%;\n",
              "      cursor: pointer;\n",
              "      display: none;\n",
              "      fill: #1967D2;\n",
              "      height: 32px;\n",
              "      padding: 0 0 0 0;\n",
              "      width: 32px;\n",
              "    }\n",
              "\n",
              "    .colab-df-convert:hover {\n",
              "      background-color: #E2EBFA;\n",
              "      box-shadow: 0px 1px 2px rgba(60, 64, 67, 0.3), 0px 1px 3px 1px rgba(60, 64, 67, 0.15);\n",
              "      fill: #174EA6;\n",
              "    }\n",
              "\n",
              "    .colab-df-buttons div {\n",
              "      margin-bottom: 4px;\n",
              "    }\n",
              "\n",
              "    [theme=dark] .colab-df-convert {\n",
              "      background-color: #3B4455;\n",
              "      fill: #D2E3FC;\n",
              "    }\n",
              "\n",
              "    [theme=dark] .colab-df-convert:hover {\n",
              "      background-color: #434B5C;\n",
              "      box-shadow: 0px 1px 3px 1px rgba(0, 0, 0, 0.15);\n",
              "      filter: drop-shadow(0px 1px 2px rgba(0, 0, 0, 0.3));\n",
              "      fill: #FFFFFF;\n",
              "    }\n",
              "  </style>\n",
              "\n",
              "    <script>\n",
              "      const buttonEl =\n",
              "        document.querySelector('#df-8eb4f1b8-5db6-47d5-b9cd-d74ca97b1d09 button.colab-df-convert');\n",
              "      buttonEl.style.display =\n",
              "        google.colab.kernel.accessAllowed ? 'block' : 'none';\n",
              "\n",
              "      async function convertToInteractive(key) {\n",
              "        const element = document.querySelector('#df-8eb4f1b8-5db6-47d5-b9cd-d74ca97b1d09');\n",
              "        const dataTable =\n",
              "          await google.colab.kernel.invokeFunction('convertToInteractive',\n",
              "                                                    [key], {});\n",
              "        if (!dataTable) return;\n",
              "\n",
              "        const docLinkHtml = 'Like what you see? Visit the ' +\n",
              "          '<a target=\"_blank\" href=https://colab.research.google.com/notebooks/data_table.ipynb>data table notebook</a>'\n",
              "          + ' to learn more about interactive tables.';\n",
              "        element.innerHTML = '';\n",
              "        dataTable['output_type'] = 'display_data';\n",
              "        await google.colab.output.renderOutput(dataTable, element);\n",
              "        const docLink = document.createElement('div');\n",
              "        docLink.innerHTML = docLinkHtml;\n",
              "        element.appendChild(docLink);\n",
              "      }\n",
              "    </script>\n",
              "  </div>\n",
              "\n",
              "\n",
              "<div id=\"df-5da18681-9ae1-4b33-a38e-4ebb05201a55\">\n",
              "  <button class=\"colab-df-quickchart\" onclick=\"quickchart('df-5da18681-9ae1-4b33-a38e-4ebb05201a55')\"\n",
              "            title=\"Suggest charts.\"\n",
              "            style=\"display:none;\">\n",
              "\n",
              "<svg xmlns=\"http://www.w3.org/2000/svg\" height=\"24px\"viewBox=\"0 0 24 24\"\n",
              "     width=\"24px\">\n",
              "    <g>\n",
              "        <path d=\"M19 3H5c-1.1 0-2 .9-2 2v14c0 1.1.9 2 2 2h14c1.1 0 2-.9 2-2V5c0-1.1-.9-2-2-2zM9 17H7v-7h2v7zm4 0h-2V7h2v10zm4 0h-2v-4h2v4z\"/>\n",
              "    </g>\n",
              "</svg>\n",
              "  </button>\n",
              "\n",
              "<style>\n",
              "  .colab-df-quickchart {\n",
              "    background-color: #E8F0FE;\n",
              "    border: none;\n",
              "    border-radius: 50%;\n",
              "    cursor: pointer;\n",
              "    display: none;\n",
              "    fill: #1967D2;\n",
              "    height: 32px;\n",
              "    padding: 0 0 0 0;\n",
              "    width: 32px;\n",
              "  }\n",
              "\n",
              "  .colab-df-quickchart:hover {\n",
              "    background-color: #E2EBFA;\n",
              "    box-shadow: 0px 1px 2px rgba(60, 64, 67, 0.3), 0px 1px 3px 1px rgba(60, 64, 67, 0.15);\n",
              "    fill: #174EA6;\n",
              "  }\n",
              "\n",
              "  [theme=dark] .colab-df-quickchart {\n",
              "    background-color: #3B4455;\n",
              "    fill: #D2E3FC;\n",
              "  }\n",
              "\n",
              "  [theme=dark] .colab-df-quickchart:hover {\n",
              "    background-color: #434B5C;\n",
              "    box-shadow: 0px 1px 3px 1px rgba(0, 0, 0, 0.15);\n",
              "    filter: drop-shadow(0px 1px 2px rgba(0, 0, 0, 0.3));\n",
              "    fill: #FFFFFF;\n",
              "  }\n",
              "</style>\n",
              "\n",
              "  <script>\n",
              "    async function quickchart(key) {\n",
              "      const charts = await google.colab.kernel.invokeFunction(\n",
              "          'suggestCharts', [key], {});\n",
              "    }\n",
              "    (() => {\n",
              "      let quickchartButtonEl =\n",
              "        document.querySelector('#df-5da18681-9ae1-4b33-a38e-4ebb05201a55 button');\n",
              "      quickchartButtonEl.style.display =\n",
              "        google.colab.kernel.accessAllowed ? 'block' : 'none';\n",
              "    })();\n",
              "  </script>\n",
              "</div>\n",
              "    </div>\n",
              "  </div>\n"
            ]
          },
          "metadata": {},
          "execution_count": 6
        }
      ]
    },
    {
      "cell_type": "code",
      "source": [
        "import pandas as pd\n",
        "from sklearn.model_selection import train_test_split\n",
        "from sklearn.feature_extraction.text import CountVectorizer\n",
        "from sklearn.preprocessing import LabelEncoder\n",
        "from sklearn.neural_network import MLPClassifier\n",
        "from sklearn.metrics import classification_report"
      ],
      "metadata": {
        "id": "YYPB6CURmQRJ"
      },
      "execution_count": null,
      "outputs": []
    },
    {
      "cell_type": "code",
      "source": [
        "X = data['message']\n",
        "y = data['intent']"
      ],
      "metadata": {
        "id": "EMvCdUc_nBag"
      },
      "execution_count": null,
      "outputs": []
    },
    {
      "cell_type": "code",
      "source": [
        "X_train, X_test, y_train, y_test = train_test_split(X,y, test_size = 0.2, random_state = 42)"
      ],
      "metadata": {
        "id": "5JKwRXtxnJZA"
      },
      "execution_count": null,
      "outputs": []
    },
    {
      "cell_type": "code",
      "source": [
        "# Convert text data into numerical features using CountVectorizer\n",
        "vectorizer = CountVectorizer()\n",
        "X_train_vec = vectorizer.fit_transform(X_train)\n",
        "X_test_vec = vectorizer.transform(X_test)"
      ],
      "metadata": {
        "id": "J26NCqSxnVfI"
      },
      "execution_count": null,
      "outputs": []
    },
    {
      "cell_type": "code",
      "source": [
        "# Convert intent labels into numerical labels\n",
        "label_encoder = LabelEncoder()\n",
        "y_train_encoded = label_encoder.fit_transform(y_train)\n",
        "y_test_encoded = label_encoder.transform(y_test)"
      ],
      "metadata": {
        "id": "e7N7m5yhnf8S"
      },
      "execution_count": null,
      "outputs": []
    },
    {
      "cell_type": "code",
      "source": [
        "# Initialize and train a Multi-Layer Perceptron (MLP) classifier\n",
        "classifier = MLPClassifier(hidden_layer_sizes=(100,), max_iter=1000, random_state=42)\n",
        "classifier.fit(X_train_vec, y_train_encoded)"
      ],
      "metadata": {
        "colab": {
          "base_uri": "https://localhost:8080/",
          "height": 75
        },
        "id": "vaGQrGn_ni4p",
        "outputId": "531af056-de6c-43f0-f741-d3197c54af52"
      },
      "execution_count": null,
      "outputs": [
        {
          "output_type": "execute_result",
          "data": {
            "text/plain": [
              "MLPClassifier(max_iter=1000, random_state=42)"
            ],
            "text/html": [
              "<style>#sk-container-id-1 {color: black;background-color: white;}#sk-container-id-1 pre{padding: 0;}#sk-container-id-1 div.sk-toggleable {background-color: white;}#sk-container-id-1 label.sk-toggleable__label {cursor: pointer;display: block;width: 100%;margin-bottom: 0;padding: 0.3em;box-sizing: border-box;text-align: center;}#sk-container-id-1 label.sk-toggleable__label-arrow:before {content: \"▸\";float: left;margin-right: 0.25em;color: #696969;}#sk-container-id-1 label.sk-toggleable__label-arrow:hover:before {color: black;}#sk-container-id-1 div.sk-estimator:hover label.sk-toggleable__label-arrow:before {color: black;}#sk-container-id-1 div.sk-toggleable__content {max-height: 0;max-width: 0;overflow: hidden;text-align: left;background-color: #f0f8ff;}#sk-container-id-1 div.sk-toggleable__content pre {margin: 0.2em;color: black;border-radius: 0.25em;background-color: #f0f8ff;}#sk-container-id-1 input.sk-toggleable__control:checked~div.sk-toggleable__content {max-height: 200px;max-width: 100%;overflow: auto;}#sk-container-id-1 input.sk-toggleable__control:checked~label.sk-toggleable__label-arrow:before {content: \"▾\";}#sk-container-id-1 div.sk-estimator input.sk-toggleable__control:checked~label.sk-toggleable__label {background-color: #d4ebff;}#sk-container-id-1 div.sk-label input.sk-toggleable__control:checked~label.sk-toggleable__label {background-color: #d4ebff;}#sk-container-id-1 input.sk-hidden--visually {border: 0;clip: rect(1px 1px 1px 1px);clip: rect(1px, 1px, 1px, 1px);height: 1px;margin: -1px;overflow: hidden;padding: 0;position: absolute;width: 1px;}#sk-container-id-1 div.sk-estimator {font-family: monospace;background-color: #f0f8ff;border: 1px dotted black;border-radius: 0.25em;box-sizing: border-box;margin-bottom: 0.5em;}#sk-container-id-1 div.sk-estimator:hover {background-color: #d4ebff;}#sk-container-id-1 div.sk-parallel-item::after {content: \"\";width: 100%;border-bottom: 1px solid gray;flex-grow: 1;}#sk-container-id-1 div.sk-label:hover label.sk-toggleable__label {background-color: #d4ebff;}#sk-container-id-1 div.sk-serial::before {content: \"\";position: absolute;border-left: 1px solid gray;box-sizing: border-box;top: 0;bottom: 0;left: 50%;z-index: 0;}#sk-container-id-1 div.sk-serial {display: flex;flex-direction: column;align-items: center;background-color: white;padding-right: 0.2em;padding-left: 0.2em;position: relative;}#sk-container-id-1 div.sk-item {position: relative;z-index: 1;}#sk-container-id-1 div.sk-parallel {display: flex;align-items: stretch;justify-content: center;background-color: white;position: relative;}#sk-container-id-1 div.sk-item::before, #sk-container-id-1 div.sk-parallel-item::before {content: \"\";position: absolute;border-left: 1px solid gray;box-sizing: border-box;top: 0;bottom: 0;left: 50%;z-index: -1;}#sk-container-id-1 div.sk-parallel-item {display: flex;flex-direction: column;z-index: 1;position: relative;background-color: white;}#sk-container-id-1 div.sk-parallel-item:first-child::after {align-self: flex-end;width: 50%;}#sk-container-id-1 div.sk-parallel-item:last-child::after {align-self: flex-start;width: 50%;}#sk-container-id-1 div.sk-parallel-item:only-child::after {width: 0;}#sk-container-id-1 div.sk-dashed-wrapped {border: 1px dashed gray;margin: 0 0.4em 0.5em 0.4em;box-sizing: border-box;padding-bottom: 0.4em;background-color: white;}#sk-container-id-1 div.sk-label label {font-family: monospace;font-weight: bold;display: inline-block;line-height: 1.2em;}#sk-container-id-1 div.sk-label-container {text-align: center;}#sk-container-id-1 div.sk-container {/* jupyter's `normalize.less` sets `[hidden] { display: none; }` but bootstrap.min.css set `[hidden] { display: none !important; }` so we also need the `!important` here to be able to override the default hidden behavior on the sphinx rendered scikit-learn.org. See: https://github.com/scikit-learn/scikit-learn/issues/21755 */display: inline-block !important;position: relative;}#sk-container-id-1 div.sk-text-repr-fallback {display: none;}</style><div id=\"sk-container-id-1\" class=\"sk-top-container\"><div class=\"sk-text-repr-fallback\"><pre>MLPClassifier(max_iter=1000, random_state=42)</pre><b>In a Jupyter environment, please rerun this cell to show the HTML representation or trust the notebook. <br />On GitHub, the HTML representation is unable to render, please try loading this page with nbviewer.org.</b></div><div class=\"sk-container\" hidden><div class=\"sk-item\"><div class=\"sk-estimator sk-toggleable\"><input class=\"sk-toggleable__control sk-hidden--visually\" id=\"sk-estimator-id-1\" type=\"checkbox\" checked><label for=\"sk-estimator-id-1\" class=\"sk-toggleable__label sk-toggleable__label-arrow\">MLPClassifier</label><div class=\"sk-toggleable__content\"><pre>MLPClassifier(max_iter=1000, random_state=42)</pre></div></div></div></div></div>"
            ]
          },
          "metadata": {},
          "execution_count": 12
        }
      ]
    },
    {
      "cell_type": "code",
      "source": [
        "# Predict intent labels on the test data\n",
        "y_pred_encoded = classifier.predict(X_test_vec)"
      ],
      "metadata": {
        "id": "ltBVVSV8nlsQ"
      },
      "execution_count": null,
      "outputs": []
    },
    {
      "cell_type": "code",
      "source": [
        "# Convert numerical predictions back to intent labels\n",
        "y_pred = label_encoder.inverse_transform(y_pred_encoded)"
      ],
      "metadata": {
        "id": "-YPi6ywsnnZS"
      },
      "execution_count": null,
      "outputs": []
    },
    {
      "cell_type": "code",
      "source": [
        "# Evaluate the model\n",
        "report = classification_report(y_test, y_pred)\n",
        "print(report)"
      ],
      "metadata": {
        "colab": {
          "base_uri": "https://localhost:8080/"
        },
        "id": "hQl1QejcnorP",
        "outputId": "2010af39-cb90-4700-949c-3eb070ef5ce3"
      },
      "execution_count": null,
      "outputs": [
        {
          "output_type": "stream",
          "name": "stdout",
          "text": [
            "              precision    recall  f1-score   support\n",
            "\n",
            "         add       1.00      0.92      0.96        13\n",
            "      delete       1.00      1.00      1.00        12\n",
            "        exit       0.91      1.00      0.95        10\n",
            "        view       1.00      1.00      1.00         5\n",
            "\n",
            "    accuracy                           0.97        40\n",
            "   macro avg       0.98      0.98      0.98        40\n",
            "weighted avg       0.98      0.97      0.98        40\n",
            "\n"
          ]
        }
      ]
    },
    {
      "cell_type": "markdown",
      "source": [
        "# ***Checking overfitting by cross validation and hyperparameter tunning***"
      ],
      "metadata": {
        "id": "eshMMnl9o0o6"
      }
    },
    {
      "cell_type": "code",
      "source": [
        "import pandas as pd\n",
        "import pandas as pd\n",
        "from sklearn.model_selection import train_test_split\n",
        "from sklearn.model_selection import GridSearchCV\n",
        "from sklearn.neural_network import MLPClassifier\n",
        "from sklearn.feature_extraction.text import TfidfVectorizer\n",
        "from sklearn.preprocessing import LabelEncoder\n",
        "from sklearn.metrics import classification_report"
      ],
      "metadata": {
        "id": "V6xWJBiwptBA"
      },
      "execution_count": null,
      "outputs": []
    },
    {
      "cell_type": "code",
      "source": [
        "# Load the dataset\n",
        "df = pd.read_csv('/content/todo_list_dataset.csv')  # Replace with the actual path to your dataset"
      ],
      "metadata": {
        "id": "KVsBvdq8puwT"
      },
      "execution_count": null,
      "outputs": []
    },
    {
      "cell_type": "code",
      "source": [
        "# Split the dfset into features (X) and labels (y)\n",
        "X = df['message']\n",
        "y = df['intent']"
      ],
      "metadata": {
        "id": "J-BvlzeaqIgr"
      },
      "execution_count": null,
      "outputs": []
    },
    {
      "cell_type": "code",
      "source": [
        "# Split the df into training and testing sets\n",
        "X_train, X_test, y_train, y_test = train_test_split(X, y, test_size=0.2, random_state=42)"
      ],
      "metadata": {
        "id": "ybVtic1QqJ-h"
      },
      "execution_count": null,
      "outputs": []
    },
    {
      "cell_type": "code",
      "source": [
        "# Convert intent labels into numerical labels\n",
        "label_encoder = LabelEncoder()\n",
        "y_train_encoded = label_encoder.fit_transform(y_train)\n",
        "y_test_encoded = label_encoder.transform(y_test)"
      ],
      "metadata": {
        "id": "WKF44EeZqLZ7"
      },
      "execution_count": null,
      "outputs": []
    },
    {
      "cell_type": "code",
      "source": [
        "# Convert text df into TF-IDF features\n",
        "tfidf_vectorizer = TfidfVectorizer()\n",
        "X_train_tfidf = tfidf_vectorizer.fit_transform(X_train)\n",
        "X_test_tfidf = tfidf_vectorizer.transform(X_test)"
      ],
      "metadata": {
        "id": "v13RoQQZqNHu"
      },
      "execution_count": null,
      "outputs": []
    },
    {
      "cell_type": "code",
      "source": [
        "# Define the parameter grid for hyperparameter tuning\n",
        "param_grid = {\n",
        "    'hidden_layer_sizes': [(50,), (100,), (50, 50), (100, 50)],\n",
        "    'activation': ['relu', 'tanh'],\n",
        "    'alpha': [0.0001, 0.001, 0.01],\n",
        "}"
      ],
      "metadata": {
        "id": "Al_MvmJXqOrl"
      },
      "execution_count": null,
      "outputs": []
    },
    {
      "cell_type": "code",
      "source": [
        "\n",
        "# Initialize the MLP classifier\n",
        "mlp = MLPClassifier(max_iter=1000, random_state=42)"
      ],
      "metadata": {
        "id": "8iBzKqgMpwW7"
      },
      "execution_count": null,
      "outputs": []
    },
    {
      "cell_type": "code",
      "source": [
        "# Initialize GridSearchCV with 5-fold cross-validation\n",
        "grid_search = GridSearchCV(mlp, param_grid, cv=5, scoring='f1_weighted')"
      ],
      "metadata": {
        "id": "BAmxAAqGpxkz"
      },
      "execution_count": null,
      "outputs": []
    },
    {
      "cell_type": "code",
      "source": [
        "# Fit the GridSearchCV to your data\n",
        "grid_search.fit(X_train_tfidf, y_train_encoded)"
      ],
      "metadata": {
        "colab": {
          "base_uri": "https://localhost:8080/",
          "height": 118
        },
        "id": "RB9a2D-ypzAo",
        "outputId": "f08133ff-221e-4dad-a33f-a4eed0ec849d"
      },
      "execution_count": null,
      "outputs": [
        {
          "output_type": "execute_result",
          "data": {
            "text/plain": [
              "GridSearchCV(cv=5, estimator=MLPClassifier(max_iter=1000, random_state=42),\n",
              "             param_grid={'activation': ['relu', 'tanh'],\n",
              "                         'alpha': [0.0001, 0.001, 0.01],\n",
              "                         'hidden_layer_sizes': [(50,), (100,), (50, 50),\n",
              "                                                (100, 50)]},\n",
              "             scoring='f1_weighted')"
            ],
            "text/html": [
              "<style>#sk-container-id-2 {color: black;background-color: white;}#sk-container-id-2 pre{padding: 0;}#sk-container-id-2 div.sk-toggleable {background-color: white;}#sk-container-id-2 label.sk-toggleable__label {cursor: pointer;display: block;width: 100%;margin-bottom: 0;padding: 0.3em;box-sizing: border-box;text-align: center;}#sk-container-id-2 label.sk-toggleable__label-arrow:before {content: \"▸\";float: left;margin-right: 0.25em;color: #696969;}#sk-container-id-2 label.sk-toggleable__label-arrow:hover:before {color: black;}#sk-container-id-2 div.sk-estimator:hover label.sk-toggleable__label-arrow:before {color: black;}#sk-container-id-2 div.sk-toggleable__content {max-height: 0;max-width: 0;overflow: hidden;text-align: left;background-color: #f0f8ff;}#sk-container-id-2 div.sk-toggleable__content pre {margin: 0.2em;color: black;border-radius: 0.25em;background-color: #f0f8ff;}#sk-container-id-2 input.sk-toggleable__control:checked~div.sk-toggleable__content {max-height: 200px;max-width: 100%;overflow: auto;}#sk-container-id-2 input.sk-toggleable__control:checked~label.sk-toggleable__label-arrow:before {content: \"▾\";}#sk-container-id-2 div.sk-estimator input.sk-toggleable__control:checked~label.sk-toggleable__label {background-color: #d4ebff;}#sk-container-id-2 div.sk-label input.sk-toggleable__control:checked~label.sk-toggleable__label {background-color: #d4ebff;}#sk-container-id-2 input.sk-hidden--visually {border: 0;clip: rect(1px 1px 1px 1px);clip: rect(1px, 1px, 1px, 1px);height: 1px;margin: -1px;overflow: hidden;padding: 0;position: absolute;width: 1px;}#sk-container-id-2 div.sk-estimator {font-family: monospace;background-color: #f0f8ff;border: 1px dotted black;border-radius: 0.25em;box-sizing: border-box;margin-bottom: 0.5em;}#sk-container-id-2 div.sk-estimator:hover {background-color: #d4ebff;}#sk-container-id-2 div.sk-parallel-item::after {content: \"\";width: 100%;border-bottom: 1px solid gray;flex-grow: 1;}#sk-container-id-2 div.sk-label:hover label.sk-toggleable__label {background-color: #d4ebff;}#sk-container-id-2 div.sk-serial::before {content: \"\";position: absolute;border-left: 1px solid gray;box-sizing: border-box;top: 0;bottom: 0;left: 50%;z-index: 0;}#sk-container-id-2 div.sk-serial {display: flex;flex-direction: column;align-items: center;background-color: white;padding-right: 0.2em;padding-left: 0.2em;position: relative;}#sk-container-id-2 div.sk-item {position: relative;z-index: 1;}#sk-container-id-2 div.sk-parallel {display: flex;align-items: stretch;justify-content: center;background-color: white;position: relative;}#sk-container-id-2 div.sk-item::before, #sk-container-id-2 div.sk-parallel-item::before {content: \"\";position: absolute;border-left: 1px solid gray;box-sizing: border-box;top: 0;bottom: 0;left: 50%;z-index: -1;}#sk-container-id-2 div.sk-parallel-item {display: flex;flex-direction: column;z-index: 1;position: relative;background-color: white;}#sk-container-id-2 div.sk-parallel-item:first-child::after {align-self: flex-end;width: 50%;}#sk-container-id-2 div.sk-parallel-item:last-child::after {align-self: flex-start;width: 50%;}#sk-container-id-2 div.sk-parallel-item:only-child::after {width: 0;}#sk-container-id-2 div.sk-dashed-wrapped {border: 1px dashed gray;margin: 0 0.4em 0.5em 0.4em;box-sizing: border-box;padding-bottom: 0.4em;background-color: white;}#sk-container-id-2 div.sk-label label {font-family: monospace;font-weight: bold;display: inline-block;line-height: 1.2em;}#sk-container-id-2 div.sk-label-container {text-align: center;}#sk-container-id-2 div.sk-container {/* jupyter's `normalize.less` sets `[hidden] { display: none; }` but bootstrap.min.css set `[hidden] { display: none !important; }` so we also need the `!important` here to be able to override the default hidden behavior on the sphinx rendered scikit-learn.org. See: https://github.com/scikit-learn/scikit-learn/issues/21755 */display: inline-block !important;position: relative;}#sk-container-id-2 div.sk-text-repr-fallback {display: none;}</style><div id=\"sk-container-id-2\" class=\"sk-top-container\"><div class=\"sk-text-repr-fallback\"><pre>GridSearchCV(cv=5, estimator=MLPClassifier(max_iter=1000, random_state=42),\n",
              "             param_grid={&#x27;activation&#x27;: [&#x27;relu&#x27;, &#x27;tanh&#x27;],\n",
              "                         &#x27;alpha&#x27;: [0.0001, 0.001, 0.01],\n",
              "                         &#x27;hidden_layer_sizes&#x27;: [(50,), (100,), (50, 50),\n",
              "                                                (100, 50)]},\n",
              "             scoring=&#x27;f1_weighted&#x27;)</pre><b>In a Jupyter environment, please rerun this cell to show the HTML representation or trust the notebook. <br />On GitHub, the HTML representation is unable to render, please try loading this page with nbviewer.org.</b></div><div class=\"sk-container\" hidden><div class=\"sk-item sk-dashed-wrapped\"><div class=\"sk-label-container\"><div class=\"sk-label sk-toggleable\"><input class=\"sk-toggleable__control sk-hidden--visually\" id=\"sk-estimator-id-2\" type=\"checkbox\" ><label for=\"sk-estimator-id-2\" class=\"sk-toggleable__label sk-toggleable__label-arrow\">GridSearchCV</label><div class=\"sk-toggleable__content\"><pre>GridSearchCV(cv=5, estimator=MLPClassifier(max_iter=1000, random_state=42),\n",
              "             param_grid={&#x27;activation&#x27;: [&#x27;relu&#x27;, &#x27;tanh&#x27;],\n",
              "                         &#x27;alpha&#x27;: [0.0001, 0.001, 0.01],\n",
              "                         &#x27;hidden_layer_sizes&#x27;: [(50,), (100,), (50, 50),\n",
              "                                                (100, 50)]},\n",
              "             scoring=&#x27;f1_weighted&#x27;)</pre></div></div></div><div class=\"sk-parallel\"><div class=\"sk-parallel-item\"><div class=\"sk-item\"><div class=\"sk-label-container\"><div class=\"sk-label sk-toggleable\"><input class=\"sk-toggleable__control sk-hidden--visually\" id=\"sk-estimator-id-3\" type=\"checkbox\" ><label for=\"sk-estimator-id-3\" class=\"sk-toggleable__label sk-toggleable__label-arrow\">estimator: MLPClassifier</label><div class=\"sk-toggleable__content\"><pre>MLPClassifier(max_iter=1000, random_state=42)</pre></div></div></div><div class=\"sk-serial\"><div class=\"sk-item\"><div class=\"sk-estimator sk-toggleable\"><input class=\"sk-toggleable__control sk-hidden--visually\" id=\"sk-estimator-id-4\" type=\"checkbox\" ><label for=\"sk-estimator-id-4\" class=\"sk-toggleable__label sk-toggleable__label-arrow\">MLPClassifier</label><div class=\"sk-toggleable__content\"><pre>MLPClassifier(max_iter=1000, random_state=42)</pre></div></div></div></div></div></div></div></div></div></div>"
            ]
          },
          "metadata": {},
          "execution_count": 25
        }
      ]
    },
    {
      "cell_type": "code",
      "source": [
        "# Print the best parameters found by the grid search\n",
        "print(\"Best Parameters:\", grid_search.best_params_)"
      ],
      "metadata": {
        "colab": {
          "base_uri": "https://localhost:8080/"
        },
        "id": "7mxnkNomp01k",
        "outputId": "dd1866b1-23f3-4ef3-e343-7a3c85765aaf"
      },
      "execution_count": null,
      "outputs": [
        {
          "output_type": "stream",
          "name": "stdout",
          "text": [
            "Best Parameters: {'activation': 'relu', 'alpha': 0.0001, 'hidden_layer_sizes': (100,)}\n"
          ]
        }
      ]
    },
    {
      "cell_type": "code",
      "source": [
        "# Get the best model from the grid search\n",
        "best_mlp = grid_search.best_estimator_"
      ],
      "metadata": {
        "id": "Ayk2AFiIp2RE"
      },
      "execution_count": null,
      "outputs": []
    },
    {
      "cell_type": "code",
      "source": [
        "# Predict intent labels on the test data\n",
        "y_pred_encoded = best_mlp.predict(X_test_tfidf)\n",
        "y_pred = label_encoder.inverse_transform(y_pred_encoded)"
      ],
      "metadata": {
        "id": "ZDa0Wj5sp3vt"
      },
      "execution_count": null,
      "outputs": []
    },
    {
      "cell_type": "code",
      "source": [
        "# Evaluate the model\n",
        "report = classification_report(y_test, y_pred)\n",
        "print(report)"
      ],
      "metadata": {
        "colab": {
          "base_uri": "https://localhost:8080/"
        },
        "id": "Y0ActS4Fp5WM",
        "outputId": "8ad31758-71ec-4706-e4b3-91ac71f43268"
      },
      "execution_count": null,
      "outputs": [
        {
          "output_type": "stream",
          "name": "stdout",
          "text": [
            "              precision    recall  f1-score   support\n",
            "\n",
            "         add       0.92      0.92      0.92        13\n",
            "      delete       1.00      0.83      0.91        12\n",
            "        exit       0.91      1.00      0.95        10\n",
            "        view       0.83      1.00      0.91         5\n",
            "\n",
            "    accuracy                           0.93        40\n",
            "   macro avg       0.92      0.94      0.92        40\n",
            "weighted avg       0.93      0.93      0.92        40\n",
            "\n"
          ]
        }
      ]
    },
    {
      "cell_type": "markdown",
      "source": [
        "# ***Saving and Testing Model***"
      ],
      "metadata": {
        "id": "jmIuoKgxsQqE"
      }
    },
    {
      "cell_type": "code",
      "source": [
        "import joblib\n",
        "\n",
        "# Train and optimize your model\n",
        "\n",
        "# Save the trained model, TF-IDF vectorizer, and label encoder\n",
        "model_filename = 'todo_list_model.pkl'\n",
        "tfidf_filename = 'tfidf_vectorizer.pkl'\n",
        "encoder_filename = 'label_encoder.pkl'\n",
        "\n",
        "joblib.dump(best_mlp, model_filename)\n",
        "joblib.dump(tfidf_vectorizer, tfidf_filename)\n",
        "joblib.dump(label_encoder, encoder_filename)\n",
        "\n",
        "print(f\"Model, TF-IDF vectorizer, and label encoder saved.\")"
      ],
      "metadata": {
        "colab": {
          "base_uri": "https://localhost:8080/"
        },
        "id": "Qc5YguMmrV3i",
        "outputId": "ed357b91-5b89-447f-8d37-db69ce6c40a1"
      },
      "execution_count": null,
      "outputs": [
        {
          "output_type": "stream",
          "name": "stdout",
          "text": [
            "Model, TF-IDF vectorizer, and label encoder saved.\n"
          ]
        }
      ]
    },
    {
      "cell_type": "code",
      "source": [
        "# Load the saved model\n",
        "loaded_model = joblib.load(model_filename)\n",
        "\n",
        "# Now you can use loaded_model to make predictions\n",
        "# Example:\n",
        "new_message = [\"Add a new task\"]\n",
        "new_message_tfidf = tfidf_vectorizer.transform(new_message)\n",
        "predicted_class_encoded = loaded_model.predict(new_message_tfidf)\n",
        "predicted_class = label_encoder.inverse_transform(predicted_class_encoded)\n",
        "print(\"Predicted class:\", predicted_class)"
      ],
      "metadata": {
        "colab": {
          "base_uri": "https://localhost:8080/"
        },
        "id": "Vs-_CiE8skmg",
        "outputId": "6e4e9f03-bdd7-4849-aef0-fd56cf6941bf"
      },
      "execution_count": null,
      "outputs": [
        {
          "output_type": "stream",
          "name": "stdout",
          "text": [
            "Predicted class: ['add']\n"
          ]
        }
      ]
    },
    {
      "cell_type": "code",
      "source": [
        "import joblib\n",
        "from sklearn.feature_extraction.text import TfidfVectorizer\n",
        "from sklearn.preprocessing import LabelEncoder\n",
        "\n",
        "# Load the saved TF-IDF model and associated preprocessing objects\n",
        "model_filename = '/content/todo_list_model.pkl'\n",
        "loaded_model = joblib.load(model_filename)\n",
        "\n",
        "# Load the saved TF-IDF vectorizer and label encoder\n",
        "tfidf_vectorizer = joblib.load('/content/tfidf_vectorizer.pkl')\n",
        "label_encoder = joblib.load('/content/label_encoder.pkl')\n",
        "\n",
        "# Enter a loop for continuous testing\n",
        "while True:\n",
        "    new_message = [input(\"Enter a message: \")]\n",
        "    if new_message[0].lower() == 'exit':\n",
        "        print(\"Exiting the loop.\")\n",
        "        break\n",
        "\n",
        "    new_message_tfidf = tfidf_vectorizer.transform(new_message)\n",
        "    predicted_class_encoded = loaded_model.predict(new_message_tfidf)\n",
        "    predicted_class = label_encoder.inverse_transform(predicted_class_encoded)\n",
        "    print(\"Predicted class:\", predicted_class[0])"
      ],
      "metadata": {
        "colab": {
          "base_uri": "https://localhost:8080/"
        },
        "id": "4n2gYexctbHz",
        "outputId": "b1812ef5-3aba-4c8a-e4ba-ceb369ca1ba4"
      },
      "execution_count": null,
      "outputs": [
        {
          "output_type": "stream",
          "name": "stdout",
          "text": [
            "Enter a message: what in my list?\n",
            "Predicted class: view\n",
            "Enter a message: buy grocery\n",
            "Predicted class: add\n",
            "Enter a message: add things to list\n",
            "Predicted class: add\n",
            "Enter a message: remove th\n",
            "Predicted class: delete\n",
            "Enter a message: show today task\n",
            "Predicted class: view\n",
            "Enter a message: exit\n",
            "Exiting the loop.\n"
          ]
        }
      ]
    },
    {
      "cell_type": "markdown",
      "source": [
        "# ***use Count Vector***"
      ],
      "metadata": {
        "id": "UcFeWdDFrOw_"
      }
    },
    {
      "cell_type": "code",
      "source": [
        "from sklearn.model_selection import GridSearchCV\n",
        "from sklearn.neural_network import MLPClassifier\n",
        "from sklearn.feature_extraction.text import CountVectorizer\n",
        "from sklearn.preprocessing import LabelEncoder\n",
        "from sklearn.metrics import classification_report\n",
        "\n",
        "# Load the dataset\n",
        "data = pd.read_csv('/content/todo_list_dataset.csv')  # Replace with the actual path to your dataset\n",
        "\n",
        "# Split the dataset into features (X) and labels (y)\n",
        "X = data['message']\n",
        "y = data['intent']\n",
        "\n",
        "# Split the data into training and testing sets\n",
        "X_train, X_test, y_train, y_test = train_test_split(X, y, test_size=0.2, random_state=42)\n",
        "\n",
        "# Convert intent labels into numerical labels\n",
        "label_encoder = LabelEncoder()\n",
        "y_train_encoded = label_encoder.fit_transform(y_train)\n",
        "y_test_encoded = label_encoder.transform(y_test)\n",
        "\n",
        "# Convert text data into Count Vectorized features\n",
        "count_vectorizer = CountVectorizer()\n",
        "X_train_count = count_vectorizer.fit_transform(X_train)\n",
        "X_test_count = count_vectorizer.transform(X_test)\n",
        "\n",
        "# Define the parameter grid for hyperparameter tuning\n",
        "param_grid = {\n",
        "    'hidden_layer_sizes': [(50,), (100,), (50, 50), (100, 50)],\n",
        "    'activation': ['relu', 'tanh'],\n",
        "    'alpha': [0.0001, 0.001, 0.01],\n",
        "}\n",
        "\n",
        "# Initialize the MLP classifier\n",
        "mlp = MLPClassifier(max_iter=1000, random_state=42)\n",
        "\n",
        "# Initialize GridSearchCV with 5-fold cross-validation\n",
        "grid_search = GridSearchCV(mlp, param_grid, cv=5, scoring='f1_weighted')\n",
        "\n",
        "# Fit the GridSearchCV to your data\n",
        "grid_search.fit(X_train_count, y_train_encoded)\n",
        "\n",
        "# Print the best parameters found by the grid search\n",
        "print(\"Best Parameters:\", grid_search.best_params_)\n",
        "\n",
        "# Get the best model from the grid search\n",
        "best_mlp = grid_search.best_estimator_\n",
        "\n",
        "# Predict intent labels on the test data\n",
        "y_pred_encoded = best_mlp.predict(X_test_count)\n",
        "y_pred = label_encoder.inverse_transform(y_pred_encoded)\n",
        "\n",
        "# Evaluate the model\n",
        "report = classification_report(y_test, y_pred)\n",
        "print(report)"
      ],
      "metadata": {
        "colab": {
          "base_uri": "https://localhost:8080/"
        },
        "id": "FV3CKfgZshTD",
        "outputId": "7fe7a694-56df-4bb4-ffb1-12efed979d53"
      },
      "execution_count": null,
      "outputs": [
        {
          "output_type": "stream",
          "name": "stdout",
          "text": [
            "Best Parameters: {'activation': 'relu', 'alpha': 0.0001, 'hidden_layer_sizes': (100,)}\n",
            "              precision    recall  f1-score   support\n",
            "\n",
            "         add       1.00      0.92      0.96        13\n",
            "      delete       1.00      1.00      1.00        12\n",
            "        exit       0.91      1.00      0.95        10\n",
            "        view       1.00      1.00      1.00         5\n",
            "\n",
            "    accuracy                           0.97        40\n",
            "   macro avg       0.98      0.98      0.98        40\n",
            "weighted avg       0.98      0.97      0.98        40\n",
            "\n"
          ]
        }
      ]
    },
    {
      "cell_type": "markdown",
      "source": [
        "# ***Function for main code***"
      ],
      "metadata": {
        "id": "_mo95fmOvSh1"
      }
    },
    {
      "cell_type": "code",
      "source": [
        "import joblib\n",
        "from sklearn.feature_extraction.text import TfidfVectorizer\n",
        "from sklearn.preprocessing import LabelEncoder\n",
        "\n",
        "# Load the saved TF-IDF model and associated preprocessing objects\n",
        "model_filename = '/content/todo_list_model.pkl'\n",
        "loaded_model = joblib.load(model_filename)\n",
        "\n",
        "# Load the saved TF-IDF vectorizer and label encoder\n",
        "tfidf_vectorizer = joblib.load('/content/tfidf_vectorizer.pkl')\n",
        "label_encoder = joblib.load('/content/label_encoder.pkl')\n",
        "\n",
        "# Initialize an empty list to store items\n",
        "todo_list = []\n",
        "\n",
        "# Enter a loop for continuous interaction\n",
        "while True:\n",
        "    new_message = input(\"You: \")\n",
        "\n",
        "    if new_message.lower() == 'exit':\n",
        "        print(\"Bot: Exiting the interaction.\")\n",
        "        break\n",
        "\n",
        "    # Preprocess the input using TF-IDF vectorizer\n",
        "    new_message_tfidf = tfidf_vectorizer.transform([new_message])\n",
        "\n",
        "    # Predict intent using the loaded model\n",
        "    predicted_class_encoded = loaded_model.predict(new_message_tfidf)\n",
        "    predicted_class = label_encoder.inverse_transform(predicted_class_encoded)\n",
        "\n",
        "    # Perform actions based on predicted intent\n",
        "    if predicted_class[0] == 'add':\n",
        "        # Extract items from the message and add them to the list\n",
        "        if 'add ' in new_message:\n",
        "            items = new_message.split('add ')[1].split(', ')\n",
        "            todo_list.extend(items)\n",
        "            print(\"Bot: Added to the list:\", ', '.join(items))\n",
        "        else:\n",
        "            print(\"Bot: Please specify items to add.\")\n",
        "    elif predicted_class[0] == 'view':\n",
        "        if len(todo_list) > 0:\n",
        "            print(\"Bot: To-do list:\")\n",
        "            for idx, item in enumerate(todo_list, start=1):\n",
        "                print(f\"{idx}. {item}\")\n",
        "        else:\n",
        "            print(\"Bot: The to-do list is empty.\")\n",
        "    elif predicted_class[0] == 'delete':\n",
        "        words = new_message.split()\n",
        "        ordinal_keywords = ['first', 'second', 'third', 'fourth', 'fifth', 'sixth', 'seventh', 'eighth', 'ninth', 'last']\n",
        "\n",
        "        for keyword in ordinal_keywords:\n",
        "            if keyword in words:\n",
        "                index = words.index(keyword)\n",
        "                if index + 1 < len(words) and words[index + 1] == 'item':\n",
        "                    if keyword == 'last':\n",
        "                        index = -1\n",
        "                    elif keyword != 'first':\n",
        "                        try:\n",
        "                            num = int(keyword)\n",
        "                            index = num - 1\n",
        "                        except ValueError:\n",
        "                            print(\"Bot: Invalid ordinal number.\")\n",
        "                            break\n",
        "\n",
        "                    if -len(todo_list) <= index < len(todo_list):\n",
        "                        deleted_item = todo_list.pop(index)\n",
        "                        print(f\"Bot: Deleted '{deleted_item}' from the list.\")\n",
        "                        break\n",
        "                    else:\n",
        "                        print(\"Bot: Index out of range.\")\n",
        "                        break\n",
        "                else:\n",
        "                    print(\"Bot: Please specify 'item' after the ordinal number.\")\n",
        "                    break\n",
        "        else:\n",
        "            print(\"Bot: Please specify the item to delete.\")\n",
        "    else:\n",
        "        print(\"Bot: I'm not sure how to respond to that.\")\n"
      ],
      "metadata": {
        "colab": {
          "base_uri": "https://localhost:8080/"
        },
        "id": "rx8tu0T2wEPj",
        "outputId": "41d4f041-52ab-48d9-bf4b-fb415175d792"
      },
      "execution_count": null,
      "outputs": [
        {
          "output_type": "stream",
          "name": "stdout",
          "text": [
            "You: add grocery, call rohan\n",
            "Bot: Added to the list: grocery, call rohan\n",
            "You: get my list\n",
            "Bot: I'm not sure how to respond to that.\n",
            "You: what in my list\n",
            "Bot: To-do list:\n",
            "1. grocery\n",
            "2. call rohan\n",
            "You: what are today task?\n",
            "Bot: To-do list:\n",
            "1. grocery\n",
            "2. call rohan\n",
            "You: put hold meeting in list\n",
            "Bot: Please specify items to add.\n",
            "You: add hold meeting\n",
            "Bot: Added to the list: hold meeting\n",
            "You: waht today task?\n",
            "Bot: To-do list:\n",
            "1. grocery\n",
            "2. call rohan\n",
            "3. hold meeting\n",
            "You: remove last\n",
            "Bot: Please specify 'item' after the ordinal number.\n",
            "You: remove first\n",
            "Bot: Please specify 'item' after the ordinal number.\n",
            "You: delete first\n",
            "Bot: Please specify 'item' after the ordinal number.\n",
            "You: delete second\n",
            "Bot: Please specify 'item' after the ordinal number.\n",
            "You: exit\n",
            "Bot: Exiting the interaction.\n"
          ]
        }
      ]
    },
    {
      "cell_type": "code",
      "source": [
        "import joblib\n",
        "from sklearn.feature_extraction.text import TfidfVectorizer\n",
        "from sklearn.preprocessing import LabelEncoder\n",
        "\n",
        "\n",
        "# Load the saved TF-IDF model and associated preprocessing objects\n",
        "model_filename = '/content/todo_list_model.pkl'\n",
        "loaded_model = joblib.load(model_filename)\n",
        "\n",
        "# Load the saved TF-IDF vectorizer and label encoder\n",
        "tfidf_vectorizer = joblib.load('/content/tfidf_vectorizer.pkl')\n",
        "label_encoder = joblib.load('/content/label_encoder.pkl')\n",
        "\n",
        "# Initialize an empty list to store items\n",
        "todo_list = []\n",
        "\n",
        "# Function to save the to-do list to a text file\n",
        "def save_to_file(todo_list):\n",
        "    with open('todo_list.txt', 'w') as file:\n",
        "        for item in todo_list:\n",
        "            file.write(item + '\\n')\n",
        "\n",
        "# Function to load the to-do list from the text file\n",
        "def load_from_file():\n",
        "    try:\n",
        "        with open('todo_list.txt', 'r') as file:\n",
        "            lines = file.read().splitlines()\n",
        "            return lines\n",
        "    except FileNotFoundError:\n",
        "        return []\n",
        "\n",
        "# Function to extract and remove an item from the list\n",
        "def extract_item(words, idx):\n",
        "    if idx < len(words):\n",
        "        if words[idx] == \"and\":\n",
        "            return extract_item(words, idx + 1)\n",
        "        return words[idx], words[:idx] + words[idx + 1:]\n",
        "    return None, words\n",
        "\n",
        "# Load the initial list from the text file\n",
        "todo_list = load_from_file()\n",
        "\n",
        "# Enter a loop for continuous interaction\n",
        "while True:\n",
        "    new_message = input(\"You: \")\n",
        "\n",
        "\n",
        "    # Preprocess the input using TF-IDF vectorizer\n",
        "    new_message_tfidf = tfidf_vectorizer.transform([new_message])\n",
        "\n",
        "    # Predict intent using the loaded model\n",
        "    predicted_class_encoded = loaded_model.predict(new_message_tfidf)\n",
        "    predicted_class = label_encoder.inverse_transform(predicted_class_encoded)\n",
        "\n",
        "    # Perform actions based on predicted intent\n",
        "    if predicted_class[0] == 'add':\n",
        "        if 'add ' in new_message:\n",
        "            items = new_message.split('add ')[1].split(', ')\n",
        "            todo_list.extend(items)\n",
        "            save_to_file(todo_list)  # Save the updated list\n",
        "            print(\"Bot: Added to the list:\", ', '.join(items))\n",
        "        else:\n",
        "            print(\"Bot: Please specify items to add.\")\n",
        "    elif predicted_class[0] == 'view':\n",
        "        if len(todo_list) > 0:\n",
        "            print(\"Bot: To-do list:\")\n",
        "            for idx, item in enumerate(todo_list, start=1):\n",
        "                print(f\"{idx}. {item}\")\n",
        "        else:\n",
        "            print(\"Bot: The to-do list is empty.\")\n",
        "\n",
        "    elif predicted_class[0] == 'delete':\n",
        "        words = new_message.split()\n",
        "        ordinal_keywords = ['first', 'second', 'third', 'fourth', 'fifth', 'sixth', 'seventh', 'eighth', 'ninth', 'last']\n",
        "        delete_indices = []\n",
        "\n",
        "        for keyword in ordinal_keywords:\n",
        "            if keyword in words:\n",
        "                idx = words.index(keyword)\n",
        "                item, updated_words = extract_item(words, idx + 1)\n",
        "                if item is not None:\n",
        "                    if item.isdigit():\n",
        "                        delete_indices.append((int(item) - 1) if keyword != 'last' else -1)\n",
        "                    else:\n",
        "                        print(\"Bot: Invalid ordinal number.\")\n",
        "                    words = updated_words\n",
        "\n",
        "        if delete_indices:\n",
        "            deleted_items = []\n",
        "            for delete_index in delete_indices:\n",
        "                if -len(todo_list) <= delete_index < len(todo_list):\n",
        "                    deleted_item = todo_list.pop(delete_index)\n",
        "                    deleted_items.append(deleted_item)\n",
        "                    save_to_file(todo_list)  # Save the updated list\n",
        "\n",
        "            if deleted_items:\n",
        "                print(\"Bot: Deleted {} from the list.\".format(', '.join([f\"'{item}'\" for item in deleted_items])))\n",
        "        else:\n",
        "            print(\"Bot: Please specify the item(s) to delete.\")\n",
        "\n",
        "    elif predicted_class[0] == 'exit':\n",
        "        print(\"Bot: Exiting the interaction.\")\n",
        "        break\n",
        "    else:\n",
        "        print(\"Bot: I'm not sure how to respond to that.\")"
      ],
      "metadata": {
        "colab": {
          "base_uri": "https://localhost:8080/"
        },
        "id": "NckiK2dGz-_6",
        "outputId": "191ac737-654b-4405-9e0d-e1421c14509c"
      },
      "execution_count": null,
      "outputs": [
        {
          "output_type": "stream",
          "name": "stdout",
          "text": [
            "You: waht in list\n",
            "Bot: Please specify items to add.\n",
            "You: remove list\n",
            "Bot: Please specify the item(s) to delete.\n",
            "You: waht in my list\n",
            "Bot: Please specify items to add.\n",
            "You: what in my list\n",
            "Bot: To-do list:\n",
            "1. hold meeting\n",
            "2. call rohan\n",
            "3. go for walk\n",
            "4. code pratcie\n",
            "5. \n",
            "6. study\n",
            "7. go walk\n",
            "8. washing car \n",
            "You: remove second item\n",
            "Bot: Invalid ordinal number.\n",
            "Bot: Please specify the item(s) to delete.\n",
            "You: remove 1\n",
            "Bot: Please specify the item(s) to delete.\n"
          ]
        }
      ]
    },
    {
      "cell_type": "code",
      "source": [
        "remo"
      ],
      "metadata": {
        "id": "iodp2RNm0LCs"
      },
      "execution_count": null,
      "outputs": []
    }
  ]
}