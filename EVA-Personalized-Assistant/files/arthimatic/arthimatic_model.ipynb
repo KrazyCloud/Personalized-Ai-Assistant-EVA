{
  "nbformat": 4,
  "nbformat_minor": 0,
  "metadata": {
    "colab": {
      "provenance": [],
      "gpuType": "T4"
    },
    "kernelspec": {
      "name": "python3",
      "display_name": "Python 3"
    },
    "language_info": {
      "name": "python"
    },
    "accelerator": "GPU"
  },
  "cells": [
    {
      "cell_type": "code",
      "execution_count": 57,
      "metadata": {
        "id": "Cp8F7O5jWP_0"
      },
      "outputs": [],
      "source": [
        "import pandas as pd\n",
        "import tensorflow as tf\n",
        "from sklearn.model_selection import train_test_split\n",
        "from sklearn.preprocessing import LabelEncoder\n",
        "from sklearn.metrics import classification_report"
      ]
    },
    {
      "cell_type": "code",
      "source": [
        "data = pd.read_csv('/content/arithmatic_dataset.csv')"
      ],
      "metadata": {
        "id": "7Wv8YL6TWWuA"
      },
      "execution_count": 58,
      "outputs": []
    },
    {
      "cell_type": "code",
      "source": [
        "data.head()"
      ],
      "metadata": {
        "colab": {
          "base_uri": "https://localhost:8080/",
          "height": 206
        },
        "id": "CS8q7uP-Wdlx",
        "outputId": "10a26dfc-6ae0-4c4d-9529-656ea3b0e1f4"
      },
      "execution_count": 59,
      "outputs": [
        {
          "output_type": "execute_result",
          "data": {
            "text/plain": [
              "                        Message          Intent\n",
              "0                What is 5 + 3?        addition\n",
              "1              Calculate 15 - 7     subtraction\n",
              "2            Please solve 6 * 4  multiplication\n",
              "3                Divide 20 by 5        division\n",
              "4  What's the result of 12 + 9?        addition"
            ],
            "text/html": [
              "\n",
              "  <div id=\"df-c0c5fa51-5743-4249-a1d6-e811e1b8b616\" class=\"colab-df-container\">\n",
              "    <div>\n",
              "<style scoped>\n",
              "    .dataframe tbody tr th:only-of-type {\n",
              "        vertical-align: middle;\n",
              "    }\n",
              "\n",
              "    .dataframe tbody tr th {\n",
              "        vertical-align: top;\n",
              "    }\n",
              "\n",
              "    .dataframe thead th {\n",
              "        text-align: right;\n",
              "    }\n",
              "</style>\n",
              "<table border=\"1\" class=\"dataframe\">\n",
              "  <thead>\n",
              "    <tr style=\"text-align: right;\">\n",
              "      <th></th>\n",
              "      <th>Message</th>\n",
              "      <th>Intent</th>\n",
              "    </tr>\n",
              "  </thead>\n",
              "  <tbody>\n",
              "    <tr>\n",
              "      <th>0</th>\n",
              "      <td>What is 5 + 3?</td>\n",
              "      <td>addition</td>\n",
              "    </tr>\n",
              "    <tr>\n",
              "      <th>1</th>\n",
              "      <td>Calculate 15 - 7</td>\n",
              "      <td>subtraction</td>\n",
              "    </tr>\n",
              "    <tr>\n",
              "      <th>2</th>\n",
              "      <td>Please solve 6 * 4</td>\n",
              "      <td>multiplication</td>\n",
              "    </tr>\n",
              "    <tr>\n",
              "      <th>3</th>\n",
              "      <td>Divide 20 by 5</td>\n",
              "      <td>division</td>\n",
              "    </tr>\n",
              "    <tr>\n",
              "      <th>4</th>\n",
              "      <td>What's the result of 12 + 9?</td>\n",
              "      <td>addition</td>\n",
              "    </tr>\n",
              "  </tbody>\n",
              "</table>\n",
              "</div>\n",
              "    <div class=\"colab-df-buttons\">\n",
              "\n",
              "  <div class=\"colab-df-container\">\n",
              "    <button class=\"colab-df-convert\" onclick=\"convertToInteractive('df-c0c5fa51-5743-4249-a1d6-e811e1b8b616')\"\n",
              "            title=\"Convert this dataframe to an interactive table.\"\n",
              "            style=\"display:none;\">\n",
              "\n",
              "  <svg xmlns=\"http://www.w3.org/2000/svg\" height=\"24px\" viewBox=\"0 -960 960 960\">\n",
              "    <path d=\"M120-120v-720h720v720H120Zm60-500h600v-160H180v160Zm220 220h160v-160H400v160Zm0 220h160v-160H400v160ZM180-400h160v-160H180v160Zm440 0h160v-160H620v160ZM180-180h160v-160H180v160Zm440 0h160v-160H620v160Z\"/>\n",
              "  </svg>\n",
              "    </button>\n",
              "\n",
              "  <style>\n",
              "    .colab-df-container {\n",
              "      display:flex;\n",
              "      gap: 12px;\n",
              "    }\n",
              "\n",
              "    .colab-df-convert {\n",
              "      background-color: #E8F0FE;\n",
              "      border: none;\n",
              "      border-radius: 50%;\n",
              "      cursor: pointer;\n",
              "      display: none;\n",
              "      fill: #1967D2;\n",
              "      height: 32px;\n",
              "      padding: 0 0 0 0;\n",
              "      width: 32px;\n",
              "    }\n",
              "\n",
              "    .colab-df-convert:hover {\n",
              "      background-color: #E2EBFA;\n",
              "      box-shadow: 0px 1px 2px rgba(60, 64, 67, 0.3), 0px 1px 3px 1px rgba(60, 64, 67, 0.15);\n",
              "      fill: #174EA6;\n",
              "    }\n",
              "\n",
              "    .colab-df-buttons div {\n",
              "      margin-bottom: 4px;\n",
              "    }\n",
              "\n",
              "    [theme=dark] .colab-df-convert {\n",
              "      background-color: #3B4455;\n",
              "      fill: #D2E3FC;\n",
              "    }\n",
              "\n",
              "    [theme=dark] .colab-df-convert:hover {\n",
              "      background-color: #434B5C;\n",
              "      box-shadow: 0px 1px 3px 1px rgba(0, 0, 0, 0.15);\n",
              "      filter: drop-shadow(0px 1px 2px rgba(0, 0, 0, 0.3));\n",
              "      fill: #FFFFFF;\n",
              "    }\n",
              "  </style>\n",
              "\n",
              "    <script>\n",
              "      const buttonEl =\n",
              "        document.querySelector('#df-c0c5fa51-5743-4249-a1d6-e811e1b8b616 button.colab-df-convert');\n",
              "      buttonEl.style.display =\n",
              "        google.colab.kernel.accessAllowed ? 'block' : 'none';\n",
              "\n",
              "      async function convertToInteractive(key) {\n",
              "        const element = document.querySelector('#df-c0c5fa51-5743-4249-a1d6-e811e1b8b616');\n",
              "        const dataTable =\n",
              "          await google.colab.kernel.invokeFunction('convertToInteractive',\n",
              "                                                    [key], {});\n",
              "        if (!dataTable) return;\n",
              "\n",
              "        const docLinkHtml = 'Like what you see? Visit the ' +\n",
              "          '<a target=\"_blank\" href=https://colab.research.google.com/notebooks/data_table.ipynb>data table notebook</a>'\n",
              "          + ' to learn more about interactive tables.';\n",
              "        element.innerHTML = '';\n",
              "        dataTable['output_type'] = 'display_data';\n",
              "        await google.colab.output.renderOutput(dataTable, element);\n",
              "        const docLink = document.createElement('div');\n",
              "        docLink.innerHTML = docLinkHtml;\n",
              "        element.appendChild(docLink);\n",
              "      }\n",
              "    </script>\n",
              "  </div>\n",
              "\n",
              "\n",
              "<div id=\"df-acf5d426-bf2d-455b-8e0e-c18d7e19226a\">\n",
              "  <button class=\"colab-df-quickchart\" onclick=\"quickchart('df-acf5d426-bf2d-455b-8e0e-c18d7e19226a')\"\n",
              "            title=\"Suggest charts.\"\n",
              "            style=\"display:none;\">\n",
              "\n",
              "<svg xmlns=\"http://www.w3.org/2000/svg\" height=\"24px\"viewBox=\"0 0 24 24\"\n",
              "     width=\"24px\">\n",
              "    <g>\n",
              "        <path d=\"M19 3H5c-1.1 0-2 .9-2 2v14c0 1.1.9 2 2 2h14c1.1 0 2-.9 2-2V5c0-1.1-.9-2-2-2zM9 17H7v-7h2v7zm4 0h-2V7h2v10zm4 0h-2v-4h2v4z\"/>\n",
              "    </g>\n",
              "</svg>\n",
              "  </button>\n",
              "\n",
              "<style>\n",
              "  .colab-df-quickchart {\n",
              "    background-color: #E8F0FE;\n",
              "    border: none;\n",
              "    border-radius: 50%;\n",
              "    cursor: pointer;\n",
              "    display: none;\n",
              "    fill: #1967D2;\n",
              "    height: 32px;\n",
              "    padding: 0 0 0 0;\n",
              "    width: 32px;\n",
              "  }\n",
              "\n",
              "  .colab-df-quickchart:hover {\n",
              "    background-color: #E2EBFA;\n",
              "    box-shadow: 0px 1px 2px rgba(60, 64, 67, 0.3), 0px 1px 3px 1px rgba(60, 64, 67, 0.15);\n",
              "    fill: #174EA6;\n",
              "  }\n",
              "\n",
              "  [theme=dark] .colab-df-quickchart {\n",
              "    background-color: #3B4455;\n",
              "    fill: #D2E3FC;\n",
              "  }\n",
              "\n",
              "  [theme=dark] .colab-df-quickchart:hover {\n",
              "    background-color: #434B5C;\n",
              "    box-shadow: 0px 1px 3px 1px rgba(0, 0, 0, 0.15);\n",
              "    filter: drop-shadow(0px 1px 2px rgba(0, 0, 0, 0.3));\n",
              "    fill: #FFFFFF;\n",
              "  }\n",
              "</style>\n",
              "\n",
              "  <script>\n",
              "    async function quickchart(key) {\n",
              "      const charts = await google.colab.kernel.invokeFunction(\n",
              "          'suggestCharts', [key], {});\n",
              "    }\n",
              "    (() => {\n",
              "      let quickchartButtonEl =\n",
              "        document.querySelector('#df-acf5d426-bf2d-455b-8e0e-c18d7e19226a button');\n",
              "      quickchartButtonEl.style.display =\n",
              "        google.colab.kernel.accessAllowed ? 'block' : 'none';\n",
              "    })();\n",
              "  </script>\n",
              "</div>\n",
              "    </div>\n",
              "  </div>\n"
            ]
          },
          "metadata": {},
          "execution_count": 59
        }
      ]
    },
    {
      "cell_type": "markdown",
      "source": [
        "## ***EDA***"
      ],
      "metadata": {
        "id": "Us4OIUjEX87S"
      }
    },
    {
      "cell_type": "code",
      "source": [
        "data.info()"
      ],
      "metadata": {
        "colab": {
          "base_uri": "https://localhost:8080/"
        },
        "id": "yseMFBXHWetW",
        "outputId": "a678dcae-3ceb-4d27-b7de-511241a60ab7"
      },
      "execution_count": 60,
      "outputs": [
        {
          "output_type": "stream",
          "name": "stdout",
          "text": [
            "<class 'pandas.core.frame.DataFrame'>\n",
            "RangeIndex: 332 entries, 0 to 331\n",
            "Data columns (total 2 columns):\n",
            " #   Column   Non-Null Count  Dtype \n",
            "---  ------   --------------  ----- \n",
            " 0   Message  332 non-null    object\n",
            " 1   Intent   332 non-null    object\n",
            "dtypes: object(2)\n",
            "memory usage: 5.3+ KB\n"
          ]
        }
      ]
    },
    {
      "cell_type": "code",
      "source": [
        "data.duplicated().value_counts()"
      ],
      "metadata": {
        "colab": {
          "base_uri": "https://localhost:8080/"
        },
        "id": "J1yfeYJxWgt3",
        "outputId": "070faa01-9b00-45a3-9e80-dedb448cd397"
      },
      "execution_count": 61,
      "outputs": [
        {
          "output_type": "execute_result",
          "data": {
            "text/plain": [
              "False    226\n",
              "True     106\n",
              "dtype: int64"
            ]
          },
          "metadata": {},
          "execution_count": 61
        }
      ]
    },
    {
      "cell_type": "code",
      "source": [
        "data[data.duplicated(keep=False)==True]"
      ],
      "metadata": {
        "colab": {
          "base_uri": "https://localhost:8080/",
          "height": 423
        },
        "id": "hn06BslbXcoR",
        "outputId": "8ffa6e8f-663e-4681-d22e-29e30216ffa7"
      },
      "execution_count": 62,
      "outputs": [
        {
          "output_type": "execute_result",
          "data": {
            "text/plain": [
              "                        Message          Intent\n",
              "6              Multiply 7 and 6  multiplication\n",
              "11               Divide 42 by 7        division\n",
              "19     Find the value of 48 / 6        division\n",
              "23               Divide 63 by 9        division\n",
              "39               Divide 36 by 6        division\n",
              "..                          ...             ...\n",
              "327               Divide 8 by 8        division\n",
              "328            Calculate 32 + 2        addition\n",
              "329                  12 minus 1     subtraction\n",
              "330            Multiply 7 and 1  multiplication\n",
              "331  Find the quotient of 7 / 1        division\n",
              "\n",
              "[143 rows x 2 columns]"
            ],
            "text/html": [
              "\n",
              "  <div id=\"df-b6a3997f-ed34-4668-be25-a748bf6ac777\" class=\"colab-df-container\">\n",
              "    <div>\n",
              "<style scoped>\n",
              "    .dataframe tbody tr th:only-of-type {\n",
              "        vertical-align: middle;\n",
              "    }\n",
              "\n",
              "    .dataframe tbody tr th {\n",
              "        vertical-align: top;\n",
              "    }\n",
              "\n",
              "    .dataframe thead th {\n",
              "        text-align: right;\n",
              "    }\n",
              "</style>\n",
              "<table border=\"1\" class=\"dataframe\">\n",
              "  <thead>\n",
              "    <tr style=\"text-align: right;\">\n",
              "      <th></th>\n",
              "      <th>Message</th>\n",
              "      <th>Intent</th>\n",
              "    </tr>\n",
              "  </thead>\n",
              "  <tbody>\n",
              "    <tr>\n",
              "      <th>6</th>\n",
              "      <td>Multiply 7 and 6</td>\n",
              "      <td>multiplication</td>\n",
              "    </tr>\n",
              "    <tr>\n",
              "      <th>11</th>\n",
              "      <td>Divide 42 by 7</td>\n",
              "      <td>division</td>\n",
              "    </tr>\n",
              "    <tr>\n",
              "      <th>19</th>\n",
              "      <td>Find the value of 48 / 6</td>\n",
              "      <td>division</td>\n",
              "    </tr>\n",
              "    <tr>\n",
              "      <th>23</th>\n",
              "      <td>Divide 63 by 9</td>\n",
              "      <td>division</td>\n",
              "    </tr>\n",
              "    <tr>\n",
              "      <th>39</th>\n",
              "      <td>Divide 36 by 6</td>\n",
              "      <td>division</td>\n",
              "    </tr>\n",
              "    <tr>\n",
              "      <th>...</th>\n",
              "      <td>...</td>\n",
              "      <td>...</td>\n",
              "    </tr>\n",
              "    <tr>\n",
              "      <th>327</th>\n",
              "      <td>Divide 8 by 8</td>\n",
              "      <td>division</td>\n",
              "    </tr>\n",
              "    <tr>\n",
              "      <th>328</th>\n",
              "      <td>Calculate 32 + 2</td>\n",
              "      <td>addition</td>\n",
              "    </tr>\n",
              "    <tr>\n",
              "      <th>329</th>\n",
              "      <td>12 minus 1</td>\n",
              "      <td>subtraction</td>\n",
              "    </tr>\n",
              "    <tr>\n",
              "      <th>330</th>\n",
              "      <td>Multiply 7 and 1</td>\n",
              "      <td>multiplication</td>\n",
              "    </tr>\n",
              "    <tr>\n",
              "      <th>331</th>\n",
              "      <td>Find the quotient of 7 / 1</td>\n",
              "      <td>division</td>\n",
              "    </tr>\n",
              "  </tbody>\n",
              "</table>\n",
              "<p>143 rows × 2 columns</p>\n",
              "</div>\n",
              "    <div class=\"colab-df-buttons\">\n",
              "\n",
              "  <div class=\"colab-df-container\">\n",
              "    <button class=\"colab-df-convert\" onclick=\"convertToInteractive('df-b6a3997f-ed34-4668-be25-a748bf6ac777')\"\n",
              "            title=\"Convert this dataframe to an interactive table.\"\n",
              "            style=\"display:none;\">\n",
              "\n",
              "  <svg xmlns=\"http://www.w3.org/2000/svg\" height=\"24px\" viewBox=\"0 -960 960 960\">\n",
              "    <path d=\"M120-120v-720h720v720H120Zm60-500h600v-160H180v160Zm220 220h160v-160H400v160Zm0 220h160v-160H400v160ZM180-400h160v-160H180v160Zm440 0h160v-160H620v160ZM180-180h160v-160H180v160Zm440 0h160v-160H620v160Z\"/>\n",
              "  </svg>\n",
              "    </button>\n",
              "\n",
              "  <style>\n",
              "    .colab-df-container {\n",
              "      display:flex;\n",
              "      gap: 12px;\n",
              "    }\n",
              "\n",
              "    .colab-df-convert {\n",
              "      background-color: #E8F0FE;\n",
              "      border: none;\n",
              "      border-radius: 50%;\n",
              "      cursor: pointer;\n",
              "      display: none;\n",
              "      fill: #1967D2;\n",
              "      height: 32px;\n",
              "      padding: 0 0 0 0;\n",
              "      width: 32px;\n",
              "    }\n",
              "\n",
              "    .colab-df-convert:hover {\n",
              "      background-color: #E2EBFA;\n",
              "      box-shadow: 0px 1px 2px rgba(60, 64, 67, 0.3), 0px 1px 3px 1px rgba(60, 64, 67, 0.15);\n",
              "      fill: #174EA6;\n",
              "    }\n",
              "\n",
              "    .colab-df-buttons div {\n",
              "      margin-bottom: 4px;\n",
              "    }\n",
              "\n",
              "    [theme=dark] .colab-df-convert {\n",
              "      background-color: #3B4455;\n",
              "      fill: #D2E3FC;\n",
              "    }\n",
              "\n",
              "    [theme=dark] .colab-df-convert:hover {\n",
              "      background-color: #434B5C;\n",
              "      box-shadow: 0px 1px 3px 1px rgba(0, 0, 0, 0.15);\n",
              "      filter: drop-shadow(0px 1px 2px rgba(0, 0, 0, 0.3));\n",
              "      fill: #FFFFFF;\n",
              "    }\n",
              "  </style>\n",
              "\n",
              "    <script>\n",
              "      const buttonEl =\n",
              "        document.querySelector('#df-b6a3997f-ed34-4668-be25-a748bf6ac777 button.colab-df-convert');\n",
              "      buttonEl.style.display =\n",
              "        google.colab.kernel.accessAllowed ? 'block' : 'none';\n",
              "\n",
              "      async function convertToInteractive(key) {\n",
              "        const element = document.querySelector('#df-b6a3997f-ed34-4668-be25-a748bf6ac777');\n",
              "        const dataTable =\n",
              "          await google.colab.kernel.invokeFunction('convertToInteractive',\n",
              "                                                    [key], {});\n",
              "        if (!dataTable) return;\n",
              "\n",
              "        const docLinkHtml = 'Like what you see? Visit the ' +\n",
              "          '<a target=\"_blank\" href=https://colab.research.google.com/notebooks/data_table.ipynb>data table notebook</a>'\n",
              "          + ' to learn more about interactive tables.';\n",
              "        element.innerHTML = '';\n",
              "        dataTable['output_type'] = 'display_data';\n",
              "        await google.colab.output.renderOutput(dataTable, element);\n",
              "        const docLink = document.createElement('div');\n",
              "        docLink.innerHTML = docLinkHtml;\n",
              "        element.appendChild(docLink);\n",
              "      }\n",
              "    </script>\n",
              "  </div>\n",
              "\n",
              "\n",
              "<div id=\"df-45bfb5f4-7566-48dd-a469-6b5272789984\">\n",
              "  <button class=\"colab-df-quickchart\" onclick=\"quickchart('df-45bfb5f4-7566-48dd-a469-6b5272789984')\"\n",
              "            title=\"Suggest charts.\"\n",
              "            style=\"display:none;\">\n",
              "\n",
              "<svg xmlns=\"http://www.w3.org/2000/svg\" height=\"24px\"viewBox=\"0 0 24 24\"\n",
              "     width=\"24px\">\n",
              "    <g>\n",
              "        <path d=\"M19 3H5c-1.1 0-2 .9-2 2v14c0 1.1.9 2 2 2h14c1.1 0 2-.9 2-2V5c0-1.1-.9-2-2-2zM9 17H7v-7h2v7zm4 0h-2V7h2v10zm4 0h-2v-4h2v4z\"/>\n",
              "    </g>\n",
              "</svg>\n",
              "  </button>\n",
              "\n",
              "<style>\n",
              "  .colab-df-quickchart {\n",
              "    background-color: #E8F0FE;\n",
              "    border: none;\n",
              "    border-radius: 50%;\n",
              "    cursor: pointer;\n",
              "    display: none;\n",
              "    fill: #1967D2;\n",
              "    height: 32px;\n",
              "    padding: 0 0 0 0;\n",
              "    width: 32px;\n",
              "  }\n",
              "\n",
              "  .colab-df-quickchart:hover {\n",
              "    background-color: #E2EBFA;\n",
              "    box-shadow: 0px 1px 2px rgba(60, 64, 67, 0.3), 0px 1px 3px 1px rgba(60, 64, 67, 0.15);\n",
              "    fill: #174EA6;\n",
              "  }\n",
              "\n",
              "  [theme=dark] .colab-df-quickchart {\n",
              "    background-color: #3B4455;\n",
              "    fill: #D2E3FC;\n",
              "  }\n",
              "\n",
              "  [theme=dark] .colab-df-quickchart:hover {\n",
              "    background-color: #434B5C;\n",
              "    box-shadow: 0px 1px 3px 1px rgba(0, 0, 0, 0.15);\n",
              "    filter: drop-shadow(0px 1px 2px rgba(0, 0, 0, 0.3));\n",
              "    fill: #FFFFFF;\n",
              "  }\n",
              "</style>\n",
              "\n",
              "  <script>\n",
              "    async function quickchart(key) {\n",
              "      const charts = await google.colab.kernel.invokeFunction(\n",
              "          'suggestCharts', [key], {});\n",
              "    }\n",
              "    (() => {\n",
              "      let quickchartButtonEl =\n",
              "        document.querySelector('#df-45bfb5f4-7566-48dd-a469-6b5272789984 button');\n",
              "      quickchartButtonEl.style.display =\n",
              "        google.colab.kernel.accessAllowed ? 'block' : 'none';\n",
              "    })();\n",
              "  </script>\n",
              "</div>\n",
              "    </div>\n",
              "  </div>\n"
            ]
          },
          "metadata": {},
          "execution_count": 62
        }
      ]
    },
    {
      "cell_type": "code",
      "source": [
        "data.drop_duplicates(inplace=True)"
      ],
      "metadata": {
        "id": "G-DbRY0YXmeO"
      },
      "execution_count": 63,
      "outputs": []
    },
    {
      "cell_type": "code",
      "source": [
        "data.duplicated().value_counts()"
      ],
      "metadata": {
        "colab": {
          "base_uri": "https://localhost:8080/"
        },
        "id": "U_ZZZgiTXuLd",
        "outputId": "784c0fee-d447-45fc-ee27-f5a82c1f2226"
      },
      "execution_count": 64,
      "outputs": [
        {
          "output_type": "execute_result",
          "data": {
            "text/plain": [
              "False    226\n",
              "dtype: int64"
            ]
          },
          "metadata": {},
          "execution_count": 64
        }
      ]
    },
    {
      "cell_type": "markdown",
      "source": [
        "## ***Model***"
      ],
      "metadata": {
        "id": "tUZJAzDjYBs7"
      }
    },
    {
      "cell_type": "code",
      "source": [
        "# Split the data into training and testing sets\n",
        "train_data, test_data = train_test_split(data, test_size=0.2, random_state=42)"
      ],
      "metadata": {
        "id": "7dUOEYMMX0R-"
      },
      "execution_count": 65,
      "outputs": []
    },
    {
      "cell_type": "code",
      "source": [
        "# Extract messages and intents\n",
        "train_messages = train_data['Message']\n",
        "train_intents = train_data['Intent']\n",
        "test_messages = test_data['Message']\n",
        "test_intents = test_data['Intent']"
      ],
      "metadata": {
        "id": "PiMbyzYtYZBQ"
      },
      "execution_count": 66,
      "outputs": []
    },
    {
      "cell_type": "code",
      "source": [
        "# Tokenize messages\n",
        "tokenizer = tf.keras.preprocessing.text.Tokenizer()\n",
        "tokenizer.fit_on_texts(train_messages)"
      ],
      "metadata": {
        "id": "yPOFa3sFYdnq"
      },
      "execution_count": 67,
      "outputs": []
    },
    {
      "cell_type": "code",
      "source": [
        "train_sequences = tokenizer.texts_to_sequences(train_messages)\n",
        "test_sequences = tokenizer.texts_to_sequences(test_messages)"
      ],
      "metadata": {
        "id": "UfLJQlPMYk5l"
      },
      "execution_count": 68,
      "outputs": []
    },
    {
      "cell_type": "code",
      "source": [
        "vocab_size = len(tokenizer.word_index) + 1"
      ],
      "metadata": {
        "id": "o6r-RoiUYmO2"
      },
      "execution_count": 69,
      "outputs": []
    },
    {
      "cell_type": "code",
      "source": [
        "# Encode intents using LabelEncoder\n",
        "encoder = LabelEncoder()\n",
        "train_labels = encoder.fit_transform(train_intents)\n",
        "test_labels = encoder.transform(test_intents)"
      ],
      "metadata": {
        "id": "oZvK57AlYnXN"
      },
      "execution_count": 70,
      "outputs": []
    },
    {
      "cell_type": "code",
      "source": [
        "# Pad sequences\n",
        "max_seq_length = max(map(len, train_sequences))\n",
        "train_sequences = tf.keras.preprocessing.sequence.pad_sequences(train_sequences, maxlen=max_seq_length)\n",
        "test_sequences = tf.keras.preprocessing.sequence.pad_sequences(test_sequences, maxlen=max_seq_length)"
      ],
      "metadata": {
        "id": "LIKCQunSYomw"
      },
      "execution_count": 71,
      "outputs": []
    },
    {
      "cell_type": "code",
      "source": [
        "# Build the model\n",
        "model = tf.keras.Sequential([\n",
        "    tf.keras.layers.Embedding(input_dim=vocab_size, output_dim=64, input_length=max_seq_length),\n",
        "    tf.keras.layers.GlobalAveragePooling1D(),\n",
        "    tf.keras.layers.Dense(64, activation='relu'),\n",
        "    tf.keras.layers.Dense(len(encoder.classes_), activation='softmax')\n",
        "])"
      ],
      "metadata": {
        "id": "2YuR3xa3YqK1"
      },
      "execution_count": 72,
      "outputs": []
    },
    {
      "cell_type": "code",
      "source": [
        "model.compile(optimizer='adam', loss='sparse_categorical_crossentropy', metrics=['accuracy'])\n",
        "model.summary()"
      ],
      "metadata": {
        "colab": {
          "base_uri": "https://localhost:8080/"
        },
        "id": "FKWCyssWYtuV",
        "outputId": "9505c2a7-8f59-4901-fa26-4b4341f407af"
      },
      "execution_count": 73,
      "outputs": [
        {
          "output_type": "stream",
          "name": "stdout",
          "text": [
            "Model: \"sequential_2\"\n",
            "_________________________________________________________________\n",
            " Layer (type)                Output Shape              Param #   \n",
            "=================================================================\n",
            " embedding_2 (Embedding)     (None, 6, 64)             4608      \n",
            "                                                                 \n",
            " global_average_pooling1d_2   (None, 64)               0         \n",
            " (GlobalAveragePooling1D)                                        \n",
            "                                                                 \n",
            " dense_4 (Dense)             (None, 64)                4160      \n",
            "                                                                 \n",
            " dense_5 (Dense)             (None, 4)                 260       \n",
            "                                                                 \n",
            "=================================================================\n",
            "Total params: 9,028\n",
            "Trainable params: 9,028\n",
            "Non-trainable params: 0\n",
            "_________________________________________________________________\n"
          ]
        }
      ]
    },
    {
      "cell_type": "code",
      "source": [
        "# Train the model\n",
        "model.fit(train_sequences, train_labels, epochs=50, batch_size=32, validation_split=0.1)"
      ],
      "metadata": {
        "colab": {
          "base_uri": "https://localhost:8080/"
        },
        "id": "KpPndB-EYvDe",
        "outputId": "00dc4dda-5814-4770-dab4-6ea05553c8b9"
      },
      "execution_count": 74,
      "outputs": [
        {
          "output_type": "stream",
          "name": "stdout",
          "text": [
            "Epoch 1/50\n",
            "6/6 [==============================] - 2s 185ms/step - loss: 1.3831 - accuracy: 0.2778 - val_loss: 1.3692 - val_accuracy: 0.3333\n",
            "Epoch 2/50\n",
            "6/6 [==============================] - 1s 101ms/step - loss: 1.3627 - accuracy: 0.3457 - val_loss: 1.3501 - val_accuracy: 0.3333\n",
            "Epoch 3/50\n",
            "6/6 [==============================] - 0s 42ms/step - loss: 1.3423 - accuracy: 0.3704 - val_loss: 1.3282 - val_accuracy: 0.3333\n",
            "Epoch 4/50\n",
            "6/6 [==============================] - 0s 42ms/step - loss: 1.3185 - accuracy: 0.4136 - val_loss: 1.3027 - val_accuracy: 0.3333\n",
            "Epoch 5/50\n",
            "6/6 [==============================] - 0s 14ms/step - loss: 1.2906 - accuracy: 0.4444 - val_loss: 1.2725 - val_accuracy: 0.3333\n",
            "Epoch 6/50\n",
            "6/6 [==============================] - 0s 61ms/step - loss: 1.2584 - accuracy: 0.5000 - val_loss: 1.2376 - val_accuracy: 0.5000\n",
            "Epoch 7/50\n",
            "6/6 [==============================] - 0s 69ms/step - loss: 1.2224 - accuracy: 0.5370 - val_loss: 1.1964 - val_accuracy: 0.5000\n",
            "Epoch 8/50\n",
            "6/6 [==============================] - 0s 16ms/step - loss: 1.1772 - accuracy: 0.6049 - val_loss: 1.1491 - val_accuracy: 0.5000\n",
            "Epoch 9/50\n",
            "6/6 [==============================] - 0s 14ms/step - loss: 1.1260 - accuracy: 0.6296 - val_loss: 1.0941 - val_accuracy: 0.6111\n",
            "Epoch 10/50\n",
            "6/6 [==============================] - 0s 82ms/step - loss: 1.0691 - accuracy: 0.6667 - val_loss: 1.0344 - val_accuracy: 0.6667\n",
            "Epoch 11/50\n",
            "6/6 [==============================] - 0s 68ms/step - loss: 1.0054 - accuracy: 0.7037 - val_loss: 0.9698 - val_accuracy: 0.7222\n",
            "Epoch 12/50\n",
            "6/6 [==============================] - 0s 16ms/step - loss: 0.9401 - accuracy: 0.7222 - val_loss: 0.9069 - val_accuracy: 0.7222\n",
            "Epoch 13/50\n",
            "6/6 [==============================] - 0s 18ms/step - loss: 0.8759 - accuracy: 0.7654 - val_loss: 0.8439 - val_accuracy: 0.7222\n",
            "Epoch 14/50\n",
            "6/6 [==============================] - 0s 17ms/step - loss: 0.8080 - accuracy: 0.7778 - val_loss: 0.7714 - val_accuracy: 0.7222\n",
            "Epoch 15/50\n",
            "6/6 [==============================] - 0s 17ms/step - loss: 0.7372 - accuracy: 0.7840 - val_loss: 0.7030 - val_accuracy: 0.7222\n",
            "Epoch 16/50\n",
            "6/6 [==============================] - 0s 19ms/step - loss: 0.6694 - accuracy: 0.8272 - val_loss: 0.6395 - val_accuracy: 0.7778\n",
            "Epoch 17/50\n",
            "6/6 [==============================] - 0s 18ms/step - loss: 0.6023 - accuracy: 0.8704 - val_loss: 0.5755 - val_accuracy: 0.8889\n",
            "Epoch 18/50\n",
            "6/6 [==============================] - 0s 16ms/step - loss: 0.5424 - accuracy: 0.9198 - val_loss: 0.5166 - val_accuracy: 1.0000\n",
            "Epoch 19/50\n",
            "6/6 [==============================] - 0s 14ms/step - loss: 0.4899 - accuracy: 0.9383 - val_loss: 0.4647 - val_accuracy: 1.0000\n",
            "Epoch 20/50\n",
            "6/6 [==============================] - 0s 63ms/step - loss: 0.4389 - accuracy: 0.9568 - val_loss: 0.4181 - val_accuracy: 1.0000\n",
            "Epoch 21/50\n",
            "6/6 [==============================] - 0s 13ms/step - loss: 0.3927 - accuracy: 0.9630 - val_loss: 0.3745 - val_accuracy: 1.0000\n",
            "Epoch 22/50\n",
            "6/6 [==============================] - 0s 11ms/step - loss: 0.3509 - accuracy: 0.9691 - val_loss: 0.3321 - val_accuracy: 1.0000\n",
            "Epoch 23/50\n",
            "6/6 [==============================] - 0s 11ms/step - loss: 0.3140 - accuracy: 0.9691 - val_loss: 0.2920 - val_accuracy: 1.0000\n",
            "Epoch 24/50\n",
            "6/6 [==============================] - 0s 10ms/step - loss: 0.2793 - accuracy: 0.9815 - val_loss: 0.2568 - val_accuracy: 1.0000\n",
            "Epoch 25/50\n",
            "6/6 [==============================] - 0s 83ms/step - loss: 0.2518 - accuracy: 0.9815 - val_loss: 0.2265 - val_accuracy: 1.0000\n",
            "Epoch 26/50\n",
            "6/6 [==============================] - 0s 10ms/step - loss: 0.2267 - accuracy: 0.9815 - val_loss: 0.2029 - val_accuracy: 1.0000\n",
            "Epoch 27/50\n",
            "6/6 [==============================] - 0s 10ms/step - loss: 0.2050 - accuracy: 0.9815 - val_loss: 0.1826 - val_accuracy: 1.0000\n",
            "Epoch 28/50\n",
            "6/6 [==============================] - 0s 11ms/step - loss: 0.1874 - accuracy: 0.9815 - val_loss: 0.1641 - val_accuracy: 1.0000\n",
            "Epoch 29/50\n",
            "6/6 [==============================] - 0s 10ms/step - loss: 0.1714 - accuracy: 0.9815 - val_loss: 0.1509 - val_accuracy: 1.0000\n",
            "Epoch 30/50\n",
            "6/6 [==============================] - 0s 13ms/step - loss: 0.1605 - accuracy: 0.9815 - val_loss: 0.1351 - val_accuracy: 1.0000\n",
            "Epoch 31/50\n",
            "6/6 [==============================] - 0s 11ms/step - loss: 0.1459 - accuracy: 0.9815 - val_loss: 0.1187 - val_accuracy: 1.0000\n",
            "Epoch 32/50\n",
            "6/6 [==============================] - 0s 14ms/step - loss: 0.1320 - accuracy: 0.9877 - val_loss: 0.1087 - val_accuracy: 1.0000\n",
            "Epoch 33/50\n",
            "6/6 [==============================] - 0s 14ms/step - loss: 0.1226 - accuracy: 0.9877 - val_loss: 0.1019 - val_accuracy: 1.0000\n",
            "Epoch 34/50\n",
            "6/6 [==============================] - 0s 10ms/step - loss: 0.1153 - accuracy: 0.9877 - val_loss: 0.0946 - val_accuracy: 1.0000\n",
            "Epoch 35/50\n",
            "6/6 [==============================] - 0s 13ms/step - loss: 0.1093 - accuracy: 0.9877 - val_loss: 0.0882 - val_accuracy: 1.0000\n",
            "Epoch 36/50\n",
            "6/6 [==============================] - 0s 10ms/step - loss: 0.1030 - accuracy: 0.9877 - val_loss: 0.0812 - val_accuracy: 1.0000\n",
            "Epoch 37/50\n",
            "6/6 [==============================] - 0s 15ms/step - loss: 0.0967 - accuracy: 0.9877 - val_loss: 0.0733 - val_accuracy: 1.0000\n",
            "Epoch 38/50\n",
            "6/6 [==============================] - 0s 13ms/step - loss: 0.0911 - accuracy: 0.9877 - val_loss: 0.0671 - val_accuracy: 1.0000\n",
            "Epoch 39/50\n",
            "6/6 [==============================] - 0s 13ms/step - loss: 0.0869 - accuracy: 0.9877 - val_loss: 0.0615 - val_accuracy: 1.0000\n",
            "Epoch 40/50\n",
            "6/6 [==============================] - 0s 14ms/step - loss: 0.0831 - accuracy: 0.9877 - val_loss: 0.0575 - val_accuracy: 1.0000\n",
            "Epoch 41/50\n",
            "6/6 [==============================] - 0s 13ms/step - loss: 0.0798 - accuracy: 0.9877 - val_loss: 0.0543 - val_accuracy: 1.0000\n",
            "Epoch 42/50\n",
            "6/6 [==============================] - 0s 11ms/step - loss: 0.0763 - accuracy: 0.9877 - val_loss: 0.0523 - val_accuracy: 1.0000\n",
            "Epoch 43/50\n",
            "6/6 [==============================] - 0s 11ms/step - loss: 0.0733 - accuracy: 0.9877 - val_loss: 0.0507 - val_accuracy: 1.0000\n",
            "Epoch 44/50\n",
            "6/6 [==============================] - 0s 14ms/step - loss: 0.0708 - accuracy: 0.9877 - val_loss: 0.0485 - val_accuracy: 1.0000\n",
            "Epoch 45/50\n",
            "6/6 [==============================] - 0s 12ms/step - loss: 0.0671 - accuracy: 0.9877 - val_loss: 0.0456 - val_accuracy: 1.0000\n",
            "Epoch 46/50\n",
            "6/6 [==============================] - 0s 14ms/step - loss: 0.0667 - accuracy: 0.9938 - val_loss: 0.0450 - val_accuracy: 1.0000\n",
            "Epoch 47/50\n",
            "6/6 [==============================] - 0s 43ms/step - loss: 0.0656 - accuracy: 0.9938 - val_loss: 0.0446 - val_accuracy: 1.0000\n",
            "Epoch 48/50\n",
            "6/6 [==============================] - 0s 11ms/step - loss: 0.0612 - accuracy: 0.9938 - val_loss: 0.0505 - val_accuracy: 1.0000\n",
            "Epoch 49/50\n",
            "6/6 [==============================] - 0s 10ms/step - loss: 0.0611 - accuracy: 0.9877 - val_loss: 0.0553 - val_accuracy: 1.0000\n",
            "Epoch 50/50\n",
            "6/6 [==============================] - 0s 12ms/step - loss: 0.0581 - accuracy: 0.9877 - val_loss: 0.0551 - val_accuracy: 1.0000\n"
          ]
        },
        {
          "output_type": "execute_result",
          "data": {
            "text/plain": [
              "<keras.callbacks.History at 0x78b9bafb52d0>"
            ]
          },
          "metadata": {},
          "execution_count": 74
        }
      ]
    },
    {
      "cell_type": "code",
      "source": [
        "# Evaluate the model\n",
        "loss, accuracy = model.evaluate(test_sequences, test_labels)\n",
        "print(f\"Test accuracy: {accuracy:.4f}\")"
      ],
      "metadata": {
        "colab": {
          "base_uri": "https://localhost:8080/"
        },
        "id": "B8dLqzHrYw_1",
        "outputId": "8cb8f417-7ab4-4c09-e6b3-d28a771e711d"
      },
      "execution_count": 75,
      "outputs": [
        {
          "output_type": "stream",
          "name": "stdout",
          "text": [
            "2/2 [==============================] - 0s 8ms/step - loss: 0.1516 - accuracy: 0.9348\n",
            "Test accuracy: 0.9348\n"
          ]
        }
      ]
    },
    {
      "cell_type": "code",
      "source": [
        "# Make predictions\n",
        "predicted_probabilities = model.predict(test_sequences)\n",
        "predicted_labels = predicted_probabilities.argmax(axis=1)\n",
        "class_names = encoder.classes_\n",
        "classification_rep = classification_report(test_labels, predicted_labels, target_names=class_names)\n",
        "print(classification_rep)"
      ],
      "metadata": {
        "colab": {
          "base_uri": "https://localhost:8080/"
        },
        "id": "M10QGc_kYya4",
        "outputId": "c868b938-129e-4253-9f52-bc6a9667bdd9"
      },
      "execution_count": 76,
      "outputs": [
        {
          "output_type": "stream",
          "name": "stdout",
          "text": [
            "2/2 [==============================] - 0s 4ms/step\n",
            "                precision    recall  f1-score   support\n",
            "\n",
            "      addition       0.80      1.00      0.89        12\n",
            "      division       1.00      1.00      1.00        12\n",
            "multiplication       1.00      0.80      0.89        10\n",
            "   subtraction       1.00      0.92      0.96        12\n",
            "\n",
            "      accuracy                           0.93        46\n",
            "     macro avg       0.95      0.93      0.93        46\n",
            "  weighted avg       0.95      0.93      0.94        46\n",
            "\n"
          ]
        }
      ]
    },
    {
      "cell_type": "code",
      "source": [
        "# After training the model\n",
        "model.save('arthimatic_model.h5')"
      ],
      "metadata": {
        "id": "5gX2NlWZYzr1"
      },
      "execution_count": 77,
      "outputs": []
    },
    {
      "cell_type": "markdown",
      "source": [
        "# ***Test Model***"
      ],
      "metadata": {
        "id": "GSUZcaUFkwqP"
      }
    },
    {
      "cell_type": "code",
      "source": [
        "import tensorflow as tf\n",
        "\n",
        "def test_intent_recognition_model(model_filename, tokenizer, encoder):\n",
        "    # Load the saved model\n",
        "    loaded_model = tf.keras.models.load_model(model_filename)\n",
        "\n",
        "    while True:\n",
        "        # Get user input\n",
        "        user_input = input(\"Enter an arithmetic problem message (or 'exit' to quit): \")\n",
        "        if user_input.lower() in ['exit', 'quit']:\n",
        "            print(\"Exiting...\")\n",
        "            break\n",
        "\n",
        "        # Tokenize and pad user input\n",
        "        user_sequence = tokenizer.texts_to_sequences([user_input])\n",
        "        user_sequence = tf.keras.preprocessing.sequence.pad_sequences(user_sequence, maxlen=max_seq_length)\n",
        "\n",
        "        # Predict intent\n",
        "        predicted_probability = loaded_model.predict(user_sequence)\n",
        "        predicted_label = predicted_probability.argmax()\n",
        "        predicted_intent = encoder.inverse_transform([predicted_label])[0]\n",
        "\n",
        "        print(f\"Predicted Intent: {predicted_intent}\")\n",
        "\n",
        "if __name__ == \"__main__\":\n",
        "    # Load tokenizer and encoder\n",
        "    tokenizer = tf.keras.preprocessing.text.Tokenizer()\n",
        "    tokenizer.fit_on_texts(train_messages)\n",
        "    max_seq_length = max(map(len, train_sequences))\n",
        "\n",
        "    encoder = LabelEncoder()\n",
        "    train_labels = encoder.fit_transform(train_intents)\n",
        "\n",
        "    # Load the trained model in .h5 format and test using the function\n",
        "    model_filename = '/content/arthimatic_model.h5'\n",
        "    test_intent_recognition_model(model_filename, tokenizer, encoder)"
      ],
      "metadata": {
        "id": "Y6mQijQJZhG8",
        "colab": {
          "base_uri": "https://localhost:8080/"
        },
        "outputId": "ee8d2262-07af-41f5-8972-eabd22d06ea5"
      },
      "execution_count": 78,
      "outputs": [
        {
          "output_type": "stream",
          "name": "stdout",
          "text": [
            "Enter an arithmetic problem message (or 'exit' to quit): exit\n",
            "Exiting...\n"
          ]
        }
      ]
    },
    {
      "cell_type": "markdown",
      "source": [
        "# ***Testing Code***"
      ],
      "metadata": {
        "id": "0ki_AgWwuHYU"
      }
    },
    {
      "cell_type": "code",
      "source": [
        "import nltk\n",
        "from nltk.tokenize import word_tokenize\n",
        "\n",
        "nltk.download('punkt')\n",
        "# Load the pre-trained model\n",
        "model = tf.keras.models.load_model('/content/arthimatic_model.h5')"
      ],
      "metadata": {
        "id": "Zco0iNKapOQw",
        "colab": {
          "base_uri": "https://localhost:8080/"
        },
        "outputId": "09ea2782-894d-4649-d54e-8f048f61be05"
      },
      "execution_count": 96,
      "outputs": [
        {
          "output_type": "stream",
          "name": "stderr",
          "text": [
            "[nltk_data] Downloading package punkt to /root/nltk_data...\n",
            "[nltk_data]   Package punkt is already up-to-date!\n"
          ]
        }
      ]
    },
    {
      "cell_type": "code",
      "source": [
        "math_keywords = {\n",
        "    'add': {'plus', 'add', '+', 'sum'},\n",
        "    'subtract': {'minus', 'subtract', '-', 'difference'},\n",
        "    'multiply': {'times', 'multiply', '*', 'product'},\n",
        "    'divide': {'divide', '/', 'over'}\n",
        "}"
      ],
      "metadata": {
        "id": "hY61sGu5Zxp-"
      },
      "execution_count": 97,
      "outputs": []
    },
    {
      "cell_type": "code",
      "source": [
        "def perform_math_operation(operation, operand1, operand2):\n",
        "    if operation == 'add':\n",
        "        return operand1 + operand2\n",
        "    elif operation == 'subtract':\n",
        "        return operand1 - operand2\n",
        "    elif operation == 'multiply':\n",
        "        return operand1 * operand2\n",
        "    elif operation == 'divide':\n",
        "        if operand2 == 0:\n",
        "            return \"Cannot divide by zero\"\n",
        "        return operand1 / operand2"
      ],
      "metadata": {
        "id": "GUMD_mHqq9Ds"
      },
      "execution_count": 98,
      "outputs": []
    },
    {
      "cell_type": "code",
      "source": [
        "def process_math_question(question):\n",
        "    tokens = word_tokenize(question.lower())\n",
        "\n",
        "    math_action = None\n",
        "    operand1 = None\n",
        "    operand2 = None\n",
        "\n",
        "    for token in tokens:\n",
        "        for operation, keywords in math_keywords.items():\n",
        "            if token in keywords:\n",
        "                math_action = operation\n",
        "                break\n",
        "        try:\n",
        "            token_value = float(token)\n",
        "            if operand1 is None:\n",
        "                operand1 = token_value\n",
        "            else:\n",
        "                operand2 = token_value\n",
        "        except ValueError:\n",
        "            pass\n",
        "\n",
        "    if math_action and operand1 is not None and operand2 is not None:\n",
        "        result = perform_math_operation(math_action, operand1, operand2)\n",
        "        return f\"The result of {operand1} {math_action} {operand2} is {result}\"\n",
        "    elif operand1 is not None and operand2 is None:\n",
        "        return f\"Please specify the operation for {operand1}\"\n",
        "    else:\n",
        "        return \"Sorry, I couldn't understand the question.\""
      ],
      "metadata": {
        "id": "_MY3AGWzpnPs"
      },
      "execution_count": 99,
      "outputs": []
    },
    {
      "cell_type": "code",
      "source": [
        "while True:\n",
        "    user_question = input(\"Enter a math-related question (or 'quit' to exit): \")\n",
        "    if user_question.lower() == \"quit\":\n",
        "        break\n",
        "\n",
        "    response = process_math_question(user_question.lower())\n",
        "    print(response)"
      ],
      "metadata": {
        "id": "w0id7uk4prjI",
        "colab": {
          "base_uri": "https://localhost:8080/"
        },
        "outputId": "62618680-8351-49ee-b6e6-46dc324197e0"
      },
      "execution_count": 100,
      "outputs": [
        {
          "name": "stdout",
          "output_type": "stream",
          "text": [
            "Enter a math-related question (or 'quit' to exit): Subtract 3.5 from 7.8\n",
            "The result of 3.5 subtract 7.8 is -4.3\n",
            "Enter a math-related question (or 'quit' to exit): Calculate 5 * 2\"\n",
            "The result of 5.0 multiply 2.0 is 10.0\n",
            "Enter a math-related question (or 'quit' to exit): quit\n"
          ]
        }
      ]
    },
    {
      "cell_type": "code",
      "source": [],
      "metadata": {
        "id": "atKNVaM8qaQ9"
      },
      "execution_count": 100,
      "outputs": []
    }
  ]
}